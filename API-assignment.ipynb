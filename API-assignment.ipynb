{
 "cells": [
  {
   "cell_type": "code",
   "execution_count": 1,
   "id": "6126ac23",
   "metadata": {},
   "outputs": [],
   "source": [
    "# Initial imports\n",
    "import os\n",
    "import requests\n",
    "import pandas as pd\n",
    "from dotenv import load_dotenv\n",
    "import alpaca_trade_api as tradeapi\n",
    "import datetime\n",
    "from MCForecastTools import MCSimulation\n",
    "import matplotlib.pyplot as plt"
   ]
  },
  {
   "cell_type": "code",
   "execution_count": 2,
   "id": "921f05df",
   "metadata": {},
   "outputs": [],
   "source": [
    "%matplotlib inline"
   ]
  },
  {
   "cell_type": "code",
   "execution_count": 3,
   "id": "c5f6319b",
   "metadata": {},
   "outputs": [
    {
     "data": {
      "text/plain": [
       "True"
      ]
     },
     "execution_count": 3,
     "metadata": {},
     "output_type": "execute_result"
    }
   ],
   "source": [
    "# Load .env environment variables\n",
    "load_dotenv()"
   ]
  },
  {
   "cell_type": "markdown",
   "id": "f1d26d78",
   "metadata": {},
   "source": [
    "## Collect Crypto Prices Using the requests Library"
   ]
  },
  {
   "cell_type": "code",
   "execution_count": 4,
   "id": "b9580c7f",
   "metadata": {},
   "outputs": [],
   "source": [
    "my_btc = 1.2\n",
    "my_eth = 5.3"
   ]
  },
  {
   "cell_type": "code",
   "execution_count": 5,
   "id": "91e3e71d",
   "metadata": {},
   "outputs": [],
   "source": [
    "btc_url = 'https://api.alternative.me/v2/ticker/bitcoin/?convert=USD'\n",
    "eth_url = 'https://api.alternative.me/v2/ticker/ethereum/?convert=USD'"
   ]
  },
  {
   "cell_type": "code",
   "execution_count": 6,
   "id": "f6285eae",
   "metadata": {},
   "outputs": [],
   "source": [
    "btc_data = requests.get(btc_url)\n",
    "eth_data = requests.get(eth_url)"
   ]
  },
  {
   "cell_type": "code",
   "execution_count": 7,
   "id": "241b7649",
   "metadata": {},
   "outputs": [
    {
     "data": {
      "text/plain": [
       "{'data': {'1': {'id': 1,\n",
       "   'name': 'Bitcoin',\n",
       "   'symbol': 'BTC',\n",
       "   'website_slug': 'bitcoin',\n",
       "   'rank': 1,\n",
       "   'circulating_supply': 18819362,\n",
       "   'total_supply': 18819362,\n",
       "   'max_supply': 21000000,\n",
       "   'quotes': {'USD': {'price': 48532.0,\n",
       "     'volume_24h': 28766536293,\n",
       "     'market_cap': 913345552061,\n",
       "     'percentage_change_1h': -0.1203636268853,\n",
       "     'percentage_change_24h': 2.26335525235901,\n",
       "     'percentage_change_7d': 8.32456207792051,\n",
       "     'percent_change_1h': -0.1203636268853,\n",
       "     'percent_change_24h': 2.26335525235901,\n",
       "     'percent_change_7d': 8.32456207792051}},\n",
       "   'last_updated': 1631972389}},\n",
       " 'metadata': {'timestamp': 1631972389,\n",
       "  'num_cryptocurrencies': 3105,\n",
       "  'error': None}}"
      ]
     },
     "execution_count": 7,
     "metadata": {},
     "output_type": "execute_result"
    }
   ],
   "source": [
    "btc_json = btc_data.json()\n",
    "btc_json"
   ]
  },
  {
   "cell_type": "code",
   "execution_count": 8,
   "id": "d85325bd",
   "metadata": {},
   "outputs": [
    {
     "data": {
      "text/plain": [
       "48532.0"
      ]
     },
     "execution_count": 8,
     "metadata": {},
     "output_type": "execute_result"
    }
   ],
   "source": [
    "btc_price = btc_json['data']['1']['quotes']['USD']['price']\n",
    "btc_price"
   ]
  },
  {
   "cell_type": "code",
   "execution_count": 9,
   "id": "3daecf9a",
   "metadata": {},
   "outputs": [
    {
     "data": {
      "text/plain": [
       "{'data': {'1027': {'id': 1027,\n",
       "   'name': 'Ethereum',\n",
       "   'symbol': 'ETH',\n",
       "   'website_slug': 'ethereum',\n",
       "   'rank': 2,\n",
       "   'circulating_supply': 117574647,\n",
       "   'total_supply': 117574647,\n",
       "   'max_supply': 0,\n",
       "   'quotes': {'USD': {'price': 3500.2,\n",
       "     'volume_24h': 17809423914,\n",
       "     'market_cap': 411534412605,\n",
       "     'percentage_change_1h': -0.267626335010708,\n",
       "     'percentage_change_24h': 1.20141066756771,\n",
       "     'percentage_change_7d': 9.04326509966837,\n",
       "     'percent_change_1h': -0.267626335010708,\n",
       "     'percent_change_24h': 1.20141066756771,\n",
       "     'percent_change_7d': 9.04326509966837}},\n",
       "   'last_updated': 1631972373}},\n",
       " 'metadata': {'timestamp': 1631972373,\n",
       "  'num_cryptocurrencies': 3105,\n",
       "  'error': None}}"
      ]
     },
     "execution_count": 9,
     "metadata": {},
     "output_type": "execute_result"
    }
   ],
   "source": [
    "eth_json =eth_data.json()\n",
    "eth_json"
   ]
  },
  {
   "cell_type": "code",
   "execution_count": 10,
   "id": "62ddb07e",
   "metadata": {},
   "outputs": [
    {
     "data": {
      "text/plain": [
       "3500.2"
      ]
     },
     "execution_count": 10,
     "metadata": {},
     "output_type": "execute_result"
    }
   ],
   "source": [
    "eth_price = eth_json['data']['1027']['quotes']['USD']['price']\n",
    "eth_price"
   ]
  },
  {
   "cell_type": "code",
   "execution_count": 11,
   "id": "5c531996",
   "metadata": {},
   "outputs": [
    {
     "data": {
      "text/plain": [
       "76789.45999999999"
      ]
     },
     "execution_count": 11,
     "metadata": {},
     "output_type": "execute_result"
    }
   ],
   "source": [
    "portfolio_value = (my_btc * btc_price) + (my_eth * eth_price)\n",
    "portfolio_value"
   ]
  },
  {
   "cell_type": "markdown",
   "id": "68c5e22d",
   "metadata": {},
   "source": [
    "## Collect Investments Data Using Alpaca: SPY (stocks) and AGG (bonds)"
   ]
  },
  {
   "cell_type": "code",
   "execution_count": 12,
   "id": "a748964a",
   "metadata": {},
   "outputs": [],
   "source": [
    "my_agg = 200\n",
    "my_spy = 50"
   ]
  },
  {
   "cell_type": "code",
   "execution_count": 13,
   "id": "75130dea",
   "metadata": {},
   "outputs": [
    {
     "data": {
      "text/plain": [
       "('PKY7E1MFRLOLO4T1FFS8', 'HZRJqKGSY8B0CUrB5ttz4S4euwV7m4TTMhi1OhR5')"
      ]
     },
     "execution_count": 13,
     "metadata": {},
     "output_type": "execute_result"
    }
   ],
   "source": [
    "alpaca_api_key = os.getenv(\"ALPACA_API_KEY\")\n",
    "alpaca_secret_key = os.getenv(\"ALPACA_SECRET_KEY\")\n",
    "\n",
    "alpaca_api_key, alpaca_secret_key"
   ]
  },
  {
   "cell_type": "code",
   "execution_count": 14,
   "id": "89e5aaad",
   "metadata": {},
   "outputs": [],
   "source": [
    "# Create the Alpaca API object\n",
    "alpaca = tradeapi.REST(\n",
    "    alpaca_api_key,\n",
    "    alpaca_secret_key,\n",
    "    api_version=\"v2\")"
   ]
  },
  {
   "cell_type": "code",
   "execution_count": 15,
   "id": "3631378c",
   "metadata": {},
   "outputs": [],
   "source": [
    "today=datetime.date.today().isoformat()"
   ]
  },
  {
   "cell_type": "code",
   "execution_count": 16,
   "id": "0eb15219",
   "metadata": {},
   "outputs": [],
   "source": [
    "price_data = alpaca.get_barset(['AGG','SPY'], '1D')"
   ]
  },
  {
   "cell_type": "code",
   "execution_count": 17,
   "id": "f4a7354d",
   "metadata": {},
   "outputs": [
    {
     "data": {
      "text/plain": [
       "datetime.datetime(2021, 9, 17, 14, 0)"
      ]
     },
     "execution_count": 17,
     "metadata": {},
     "output_type": "execute_result"
    }
   ],
   "source": [
    "datetime.datetime.fromtimestamp(1631851200) #figure out what t parameter in the alpaca trade api entity.Bar is."
   ]
  },
  {
   "cell_type": "code",
   "execution_count": 18,
   "id": "0ed4fd28",
   "metadata": {},
   "outputs": [
    {
     "data": {
      "text/html": [
       "<div>\n",
       "<style scoped>\n",
       "    .dataframe tbody tr th:only-of-type {\n",
       "        vertical-align: middle;\n",
       "    }\n",
       "\n",
       "    .dataframe tbody tr th {\n",
       "        vertical-align: top;\n",
       "    }\n",
       "\n",
       "    .dataframe thead tr th {\n",
       "        text-align: left;\n",
       "    }\n",
       "\n",
       "    .dataframe thead tr:last-of-type th {\n",
       "        text-align: right;\n",
       "    }\n",
       "</style>\n",
       "<table border=\"1\" class=\"dataframe\">\n",
       "  <thead>\n",
       "    <tr>\n",
       "      <th></th>\n",
       "      <th colspan=\"5\" halign=\"left\">AGG</th>\n",
       "      <th colspan=\"5\" halign=\"left\">SPY</th>\n",
       "    </tr>\n",
       "    <tr>\n",
       "      <th></th>\n",
       "      <th>open</th>\n",
       "      <th>high</th>\n",
       "      <th>low</th>\n",
       "      <th>close</th>\n",
       "      <th>volume</th>\n",
       "      <th>open</th>\n",
       "      <th>high</th>\n",
       "      <th>low</th>\n",
       "      <th>close</th>\n",
       "      <th>volume</th>\n",
       "    </tr>\n",
       "    <tr>\n",
       "      <th>time</th>\n",
       "      <th></th>\n",
       "      <th></th>\n",
       "      <th></th>\n",
       "      <th></th>\n",
       "      <th></th>\n",
       "      <th></th>\n",
       "      <th></th>\n",
       "      <th></th>\n",
       "      <th></th>\n",
       "      <th></th>\n",
       "    </tr>\n",
       "  </thead>\n",
       "  <tbody>\n",
       "    <tr>\n",
       "      <th>2017-09-28 00:00:00-04:00</th>\n",
       "      <td>109.58</td>\n",
       "      <td>109.7200</td>\n",
       "      <td>109.5100</td>\n",
       "      <td>109.680</td>\n",
       "      <td>1553324</td>\n",
       "      <td>249.73</td>\n",
       "      <td>250.44</td>\n",
       "      <td>249.6300</td>\n",
       "      <td>250.34</td>\n",
       "      <td>25577234</td>\n",
       "    </tr>\n",
       "    <tr>\n",
       "      <th>2017-09-29 00:00:00-04:00</th>\n",
       "      <td>109.74</td>\n",
       "      <td>109.7700</td>\n",
       "      <td>109.5400</td>\n",
       "      <td>109.640</td>\n",
       "      <td>2969204</td>\n",
       "      <td>250.34</td>\n",
       "      <td>251.32</td>\n",
       "      <td>250.1300</td>\n",
       "      <td>251.20</td>\n",
       "      <td>41410208</td>\n",
       "    </tr>\n",
       "    <tr>\n",
       "      <th>2017-10-02 00:00:00-04:00</th>\n",
       "      <td>109.43</td>\n",
       "      <td>109.4700</td>\n",
       "      <td>109.3300</td>\n",
       "      <td>109.425</td>\n",
       "      <td>3840216</td>\n",
       "      <td>251.49</td>\n",
       "      <td>252.30</td>\n",
       "      <td>251.2926</td>\n",
       "      <td>252.29</td>\n",
       "      <td>37469184</td>\n",
       "    </tr>\n",
       "    <tr>\n",
       "      <th>2017-10-03 00:00:00-04:00</th>\n",
       "      <td>109.46</td>\n",
       "      <td>109.5400</td>\n",
       "      <td>109.4000</td>\n",
       "      <td>109.520</td>\n",
       "      <td>2243369</td>\n",
       "      <td>252.46</td>\n",
       "      <td>252.89</td>\n",
       "      <td>252.2300</td>\n",
       "      <td>252.85</td>\n",
       "      <td>33875099</td>\n",
       "    </tr>\n",
       "    <tr>\n",
       "      <th>2017-10-04 00:00:00-04:00</th>\n",
       "      <td>109.56</td>\n",
       "      <td>109.5700</td>\n",
       "      <td>109.4100</td>\n",
       "      <td>109.500</td>\n",
       "      <td>2130907</td>\n",
       "      <td>252.69</td>\n",
       "      <td>253.44</td>\n",
       "      <td>252.5600</td>\n",
       "      <td>253.16</td>\n",
       "      <td>30217246</td>\n",
       "    </tr>\n",
       "    <tr>\n",
       "      <th>...</th>\n",
       "      <td>...</td>\n",
       "      <td>...</td>\n",
       "      <td>...</td>\n",
       "      <td>...</td>\n",
       "      <td>...</td>\n",
       "      <td>...</td>\n",
       "      <td>...</td>\n",
       "      <td>...</td>\n",
       "      <td>...</td>\n",
       "      <td>...</td>\n",
       "    </tr>\n",
       "    <tr>\n",
       "      <th>2021-09-13 00:00:00-04:00</th>\n",
       "      <td>116.00</td>\n",
       "      <td>116.0750</td>\n",
       "      <td>115.9600</td>\n",
       "      <td>116.030</td>\n",
       "      <td>3289881</td>\n",
       "      <td>448.65</td>\n",
       "      <td>448.92</td>\n",
       "      <td>444.1100</td>\n",
       "      <td>446.56</td>\n",
       "      <td>75103627</td>\n",
       "    </tr>\n",
       "    <tr>\n",
       "      <th>2021-09-14 00:00:00-04:00</th>\n",
       "      <td>116.07</td>\n",
       "      <td>116.3800</td>\n",
       "      <td>116.0700</td>\n",
       "      <td>116.280</td>\n",
       "      <td>4036304</td>\n",
       "      <td>448.12</td>\n",
       "      <td>448.34</td>\n",
       "      <td>443.2200</td>\n",
       "      <td>444.18</td>\n",
       "      <td>67959711</td>\n",
       "    </tr>\n",
       "    <tr>\n",
       "      <th>2021-09-15 00:00:00-04:00</th>\n",
       "      <td>116.29</td>\n",
       "      <td>116.2929</td>\n",
       "      <td>116.0900</td>\n",
       "      <td>116.190</td>\n",
       "      <td>3348036</td>\n",
       "      <td>444.62</td>\n",
       "      <td>448.41</td>\n",
       "      <td>443.4400</td>\n",
       "      <td>447.87</td>\n",
       "      <td>69265024</td>\n",
       "    </tr>\n",
       "    <tr>\n",
       "      <th>2021-09-16 00:00:00-04:00</th>\n",
       "      <td>115.95</td>\n",
       "      <td>116.1100</td>\n",
       "      <td>115.9050</td>\n",
       "      <td>115.990</td>\n",
       "      <td>3673608</td>\n",
       "      <td>447.32</td>\n",
       "      <td>448.36</td>\n",
       "      <td>444.0200</td>\n",
       "      <td>447.14</td>\n",
       "      <td>69354318</td>\n",
       "    </tr>\n",
       "    <tr>\n",
       "      <th>2021-09-17 00:00:00-04:00</th>\n",
       "      <td>115.80</td>\n",
       "      <td>115.8750</td>\n",
       "      <td>115.7428</td>\n",
       "      <td>115.850</td>\n",
       "      <td>4662040</td>\n",
       "      <td>444.92</td>\n",
       "      <td>445.37</td>\n",
       "      <td>441.0200</td>\n",
       "      <td>441.41</td>\n",
       "      <td>100861596</td>\n",
       "    </tr>\n",
       "  </tbody>\n",
       "</table>\n",
       "<p>1000 rows × 10 columns</p>\n",
       "</div>"
      ],
      "text/plain": [
       "                              AGG                                        \\\n",
       "                             open      high       low    close   volume   \n",
       "time                                                                      \n",
       "2017-09-28 00:00:00-04:00  109.58  109.7200  109.5100  109.680  1553324   \n",
       "2017-09-29 00:00:00-04:00  109.74  109.7700  109.5400  109.640  2969204   \n",
       "2017-10-02 00:00:00-04:00  109.43  109.4700  109.3300  109.425  3840216   \n",
       "2017-10-03 00:00:00-04:00  109.46  109.5400  109.4000  109.520  2243369   \n",
       "2017-10-04 00:00:00-04:00  109.56  109.5700  109.4100  109.500  2130907   \n",
       "...                           ...       ...       ...      ...      ...   \n",
       "2021-09-13 00:00:00-04:00  116.00  116.0750  115.9600  116.030  3289881   \n",
       "2021-09-14 00:00:00-04:00  116.07  116.3800  116.0700  116.280  4036304   \n",
       "2021-09-15 00:00:00-04:00  116.29  116.2929  116.0900  116.190  3348036   \n",
       "2021-09-16 00:00:00-04:00  115.95  116.1100  115.9050  115.990  3673608   \n",
       "2021-09-17 00:00:00-04:00  115.80  115.8750  115.7428  115.850  4662040   \n",
       "\n",
       "                              SPY                                       \n",
       "                             open    high       low   close     volume  \n",
       "time                                                                    \n",
       "2017-09-28 00:00:00-04:00  249.73  250.44  249.6300  250.34   25577234  \n",
       "2017-09-29 00:00:00-04:00  250.34  251.32  250.1300  251.20   41410208  \n",
       "2017-10-02 00:00:00-04:00  251.49  252.30  251.2926  252.29   37469184  \n",
       "2017-10-03 00:00:00-04:00  252.46  252.89  252.2300  252.85   33875099  \n",
       "2017-10-04 00:00:00-04:00  252.69  253.44  252.5600  253.16   30217246  \n",
       "...                           ...     ...       ...     ...        ...  \n",
       "2021-09-13 00:00:00-04:00  448.65  448.92  444.1100  446.56   75103627  \n",
       "2021-09-14 00:00:00-04:00  448.12  448.34  443.2200  444.18   67959711  \n",
       "2021-09-15 00:00:00-04:00  444.62  448.41  443.4400  447.87   69265024  \n",
       "2021-09-16 00:00:00-04:00  447.32  448.36  444.0200  447.14   69354318  \n",
       "2021-09-17 00:00:00-04:00  444.92  445.37  441.0200  441.41  100861596  \n",
       "\n",
       "[1000 rows x 10 columns]"
      ]
     },
     "execution_count": 18,
     "metadata": {},
     "output_type": "execute_result"
    }
   ],
   "source": [
    "# Get current closing prices for FB and TWTR\n",
    "price_df = alpaca.get_barset(\n",
    "    ['AGG','SPY'],\n",
    "    '1D',\n",
    "    start = today,\n",
    "    end = today,\n",
    "    limit = 1000\n",
    ").df\n",
    "\n",
    "price_df"
   ]
  },
  {
   "cell_type": "code",
   "execution_count": 19,
   "id": "8f91be7d",
   "metadata": {},
   "outputs": [
    {
     "data": {
      "text/html": [
       "<div>\n",
       "<style scoped>\n",
       "    .dataframe tbody tr th:only-of-type {\n",
       "        vertical-align: middle;\n",
       "    }\n",
       "\n",
       "    .dataframe tbody tr th {\n",
       "        vertical-align: top;\n",
       "    }\n",
       "\n",
       "    .dataframe thead th {\n",
       "        text-align: right;\n",
       "    }\n",
       "</style>\n",
       "<table border=\"1\" class=\"dataframe\">\n",
       "  <thead>\n",
       "    <tr style=\"text-align: right;\">\n",
       "      <th></th>\n",
       "      <th>AGG</th>\n",
       "      <th>SPY</th>\n",
       "    </tr>\n",
       "    <tr>\n",
       "      <th>Date</th>\n",
       "      <th></th>\n",
       "      <th></th>\n",
       "    </tr>\n",
       "  </thead>\n",
       "  <tbody>\n",
       "    <tr>\n",
       "      <th>2017-09-28</th>\n",
       "      <td>109.680</td>\n",
       "      <td>250.34</td>\n",
       "    </tr>\n",
       "    <tr>\n",
       "      <th>2017-09-29</th>\n",
       "      <td>109.640</td>\n",
       "      <td>251.20</td>\n",
       "    </tr>\n",
       "    <tr>\n",
       "      <th>2017-10-02</th>\n",
       "      <td>109.425</td>\n",
       "      <td>252.29</td>\n",
       "    </tr>\n",
       "    <tr>\n",
       "      <th>2017-10-03</th>\n",
       "      <td>109.520</td>\n",
       "      <td>252.85</td>\n",
       "    </tr>\n",
       "    <tr>\n",
       "      <th>2017-10-04</th>\n",
       "      <td>109.500</td>\n",
       "      <td>253.16</td>\n",
       "    </tr>\n",
       "    <tr>\n",
       "      <th>...</th>\n",
       "      <td>...</td>\n",
       "      <td>...</td>\n",
       "    </tr>\n",
       "    <tr>\n",
       "      <th>2021-09-13</th>\n",
       "      <td>116.030</td>\n",
       "      <td>446.56</td>\n",
       "    </tr>\n",
       "    <tr>\n",
       "      <th>2021-09-14</th>\n",
       "      <td>116.280</td>\n",
       "      <td>444.18</td>\n",
       "    </tr>\n",
       "    <tr>\n",
       "      <th>2021-09-15</th>\n",
       "      <td>116.190</td>\n",
       "      <td>447.87</td>\n",
       "    </tr>\n",
       "    <tr>\n",
       "      <th>2021-09-16</th>\n",
       "      <td>115.990</td>\n",
       "      <td>447.14</td>\n",
       "    </tr>\n",
       "    <tr>\n",
       "      <th>2021-09-17</th>\n",
       "      <td>115.850</td>\n",
       "      <td>441.41</td>\n",
       "    </tr>\n",
       "  </tbody>\n",
       "</table>\n",
       "<p>1000 rows × 2 columns</p>\n",
       "</div>"
      ],
      "text/plain": [
       "                AGG     SPY\n",
       "Date                       \n",
       "2017-09-28  109.680  250.34\n",
       "2017-09-29  109.640  251.20\n",
       "2017-10-02  109.425  252.29\n",
       "2017-10-03  109.520  252.85\n",
       "2017-10-04  109.500  253.16\n",
       "...             ...     ...\n",
       "2021-09-13  116.030  446.56\n",
       "2021-09-14  116.280  444.18\n",
       "2021-09-15  116.190  447.87\n",
       "2021-09-16  115.990  447.14\n",
       "2021-09-17  115.850  441.41\n",
       "\n",
       "[1000 rows x 2 columns]"
      ]
     },
     "execution_count": 19,
     "metadata": {},
     "output_type": "execute_result"
    }
   ],
   "source": [
    "# Create and empty DataFrame for closing prices\n",
    "df_closing_prices = pd.DataFrame()\n",
    "\n",
    "# Fetch the closing prices of AGG and SPY\n",
    "df_closing_prices[\"AGG\"] = price_df['AGG']['close']\n",
    "df_closing_prices[\"SPY\"] = price_df['SPY']['close']\n",
    "\n",
    "# Drop the time component of the date\n",
    "df_closing_prices.index = df_closing_prices.index.date\n",
    "\n",
    "df_closing_prices.index.name = 'Date'\n",
    "df_closing_prices"
   ]
  },
  {
   "cell_type": "code",
   "execution_count": 20,
   "id": "1881cc8a",
   "metadata": {},
   "outputs": [
    {
     "data": {
      "text/plain": [
       "AGG    115.85\n",
       "SPY    441.41\n",
       "Name: 2021-09-17, dtype: float64"
      ]
     },
     "execution_count": 20,
     "metadata": {},
     "output_type": "execute_result"
    }
   ],
   "source": [
    "most_recent_closing_price = df_closing_prices.loc[max(df_closing_prices.index)]\n",
    "most_recent_closing_price"
   ]
  },
  {
   "cell_type": "code",
   "execution_count": 21,
   "id": "bc54fc9f",
   "metadata": {},
   "outputs": [
    {
     "name": "stdout",
     "output_type": "stream",
     "text": [
      " current AGG price = 23170.0\n",
      " current SPY price = 22070.5\n"
     ]
    }
   ],
   "source": [
    "current_agg_price = most_recent_closing_price['AGG'] * my_agg\n",
    "current_spy_price = most_recent_closing_price['SPY'] * my_spy\n",
    "print(f' current AGG price = {current_agg_price}')\n",
    "print(f' current SPY price = {current_spy_price}')\n"
   ]
  },
  {
   "cell_type": "code",
   "execution_count": 22,
   "id": "b5f7ff3b",
   "metadata": {},
   "outputs": [
    {
     "data": {
      "text/plain": [
       "45240.5"
      ]
     },
     "execution_count": 22,
     "metadata": {},
     "output_type": "execute_result"
    }
   ],
   "source": [
    "total_stock_portfolio = current_agg_price + current_spy_price\n",
    "total_stock_portfolio"
   ]
  },
  {
   "cell_type": "markdown",
   "id": "307f4ce5",
   "metadata": {},
   "source": [
    "## Savings Health Analysis"
   ]
  },
  {
   "cell_type": "code",
   "execution_count": 23,
   "id": "d5787a51",
   "metadata": {},
   "outputs": [],
   "source": [
    "monthly_income = 12000"
   ]
  },
  {
   "cell_type": "code",
   "execution_count": 24,
   "id": "3b2dbfe7",
   "metadata": {},
   "outputs": [
    {
     "data": {
      "text/html": [
       "<div>\n",
       "<style scoped>\n",
       "    .dataframe tbody tr th:only-of-type {\n",
       "        vertical-align: middle;\n",
       "    }\n",
       "\n",
       "    .dataframe tbody tr th {\n",
       "        vertical-align: top;\n",
       "    }\n",
       "\n",
       "    .dataframe thead th {\n",
       "        text-align: right;\n",
       "    }\n",
       "</style>\n",
       "<table border=\"1\" class=\"dataframe\">\n",
       "  <thead>\n",
       "    <tr style=\"text-align: right;\">\n",
       "      <th></th>\n",
       "      <th>amount</th>\n",
       "    </tr>\n",
       "  </thead>\n",
       "  <tbody>\n",
       "    <tr>\n",
       "      <th>crypto</th>\n",
       "      <td>76789.46</td>\n",
       "    </tr>\n",
       "    <tr>\n",
       "      <th>shares</th>\n",
       "      <td>45240.50</td>\n",
       "    </tr>\n",
       "  </tbody>\n",
       "</table>\n",
       "</div>"
      ],
      "text/plain": [
       "          amount\n",
       "crypto  76789.46\n",
       "shares  45240.50"
      ]
     },
     "execution_count": 24,
     "metadata": {},
     "output_type": "execute_result"
    }
   ],
   "source": [
    "df_savings = pd.DataFrame([[portfolio_value],[total_stock_portfolio]], index=['crypto', 'shares'], columns=['amount'])\n",
    "df_savings"
   ]
  },
  {
   "cell_type": "code",
   "execution_count": 25,
   "id": "5d325be2",
   "metadata": {},
   "outputs": [],
   "source": [
    "#plot = df.plot.pie(y='mass', figsize=(10, 10))\n",
    "#df_savings.plot.pie(y='amount', figsize=(10,10))"
   ]
  },
  {
   "cell_type": "code",
   "execution_count": 26,
   "id": "67f8e8d6",
   "metadata": {},
   "outputs": [],
   "source": [
    "df_total_savings = df_savings.sum(0)\n",
    "total_savings = df_total_savings['amount']"
   ]
  },
  {
   "cell_type": "code",
   "execution_count": 27,
   "id": "ab6b8046",
   "metadata": {},
   "outputs": [
    {
     "data": {
      "text/plain": [
       "([<matplotlib.patches.Wedge at 0x2c35806fa60>,\n",
       "  <matplotlib.patches.Wedge at 0x2c357f302b0>],\n",
       " [Text(-2.0210660733877304, -0.8690753287265162, 'Crypto'),\n",
       "  Text(2.066999393237451, 0.8888270407430287, 'Shares')],\n",
       " [Text(-1.1023996763933073, -0.4740410883962815, '63%'),\n",
       "  Text(1.1483329962430282, 0.49379280041279366, '37%')])"
      ]
     },
     "execution_count": 27,
     "metadata": {},
     "output_type": "execute_result"
    },
    {
     "data": {
      "image/png": "[encoded data removed]",
      "text/plain": [
       "<Figure size 360x360 with 1 Axes>"
      ]
     },
     "metadata": {},
     "output_type": "display_data"
    }
   ],
   "source": [
    "labels = ['Crypto', 'Shares']   # Create labels for pie chart\n",
    "crypto_percentage = 100 * df_savings.loc['crypto']['amount']/total_savings\n",
    "shares_percentage = 100 * df_savings.loc['shares']['amount']/total_savings\n",
    "sizes = [crypto_percentage, shares_percentage]\n",
    "explode = [0, 0.05]  # detach the second element of the pie chart (shares) by this offset\n",
    "\n",
    "fig1, ax1 = plt.subplots(figsize=(5,5))  # Setup figure and axes for ploting\n",
    "ax1.axis('equal')  #ensure the pie chart is circular\n",
    "#ax1.set_title(\"Portfolio Pie Chart\")  #set piechart title\n",
    "\n",
    "ax1.pie(sizes,       \n",
    "        labels=labels,\n",
    "        autopct='%1.0f%%',\n",
    "        explode=explode,\n",
    "       shadow=True,\n",
    "       radius=2,\n",
    "       startangle=90)\n"
   ]
  },
  {
   "cell_type": "code",
   "execution_count": 28,
   "id": "d5bfb202",
   "metadata": {},
   "outputs": [
    {
     "name": "stdout",
     "output_type": "stream",
     "text": [
      "Congratulations you have enough savings \n"
     ]
    }
   ],
   "source": [
    "financial_goal = 3*monthly_income\n",
    "if total_savings > financial_goal:\n",
    "    print(\"Congratulations you have enough savings \")\n",
    "elif total_savings == financial_goal:\n",
    "    print('Congratulations reaching your financial goal')\n",
    "else:\n",
    "    print(f'You are ${financial_goal - total_savings} away from your target')"
   ]
  },
  {
   "cell_type": "markdown",
   "id": "b4a02cc0",
   "metadata": {},
   "source": [
    "## Retirement Planning"
   ]
  },
  {
   "cell_type": "markdown",
   "id": "8e381452",
   "metadata": {},
   "source": [
    "## Monte Carlo Simulation"
   ]
  },
  {
   "cell_type": "code",
   "execution_count": 29,
   "id": "b2c8dedc",
   "metadata": {},
   "outputs": [],
   "source": [
    "# The effect of leap years on our calculations are negligble.  As such we elide this detail\n",
    "five_years_in_days = 365 * 5\n",
    "five_year_delta = datetime.timedelta(days=five_years_in_days)\n",
    "today_datetime = datetime.datetime.today()\n",
    "five_years_ago_datetime = today_datetime - five_year_delta\n",
    "five_years_ago_iso = five_years_ago_datetime.isoformat()"
   ]
  },
  {
   "cell_type": "code",
   "execution_count": 30,
   "id": "7c53bbb4",
   "metadata": {},
   "outputs": [],
   "source": [
    "# Set start and end dates of five years back from today.\n",
    "# Sample results may vary from the solution based on the time frame chosen\n",
    "start_date = five_years_ago_iso\n",
    "end_date = today"
   ]
  },
  {
   "cell_type": "code",
   "execution_count": 31,
   "id": "e64cb4e8",
   "metadata": {},
   "outputs": [],
   "source": [
    "# 5 years' worth of historical data for SPY and AGG\n",
    "# (use a limit=1000 parameter to call the most recent 1000 days of data)\n",
    "# YOUR CODE HERE!\n",
    "\n",
    "# Display sample data\n",
    "#df_stock_data.head()"
   ]
  },
  {
   "cell_type": "code",
   "execution_count": 32,
   "id": "f548fb9c",
   "metadata": {},
   "outputs": [],
   "source": [
    "five_years_hist_data = alpaca.get_barset(\n",
    "    ['AGG','SPY'],\n",
    "    '1D',\n",
    "    start = start_date,\n",
    "    end = today,\n",
    "    limit = 1000\n",
    ").df"
   ]
  },
  {
   "cell_type": "code",
   "execution_count": 33,
   "id": "5d5ffc22",
   "metadata": {},
   "outputs": [
    {
     "data": {
      "text/html": [
       "<div>\n",
       "<style scoped>\n",
       "    .dataframe tbody tr th:only-of-type {\n",
       "        vertical-align: middle;\n",
       "    }\n",
       "\n",
       "    .dataframe tbody tr th {\n",
       "        vertical-align: top;\n",
       "    }\n",
       "\n",
       "    .dataframe thead tr th {\n",
       "        text-align: left;\n",
       "    }\n",
       "\n",
       "    .dataframe thead tr:last-of-type th {\n",
       "        text-align: right;\n",
       "    }\n",
       "</style>\n",
       "<table border=\"1\" class=\"dataframe\">\n",
       "  <thead>\n",
       "    <tr>\n",
       "      <th></th>\n",
       "      <th colspan=\"5\" halign=\"left\">AGG</th>\n",
       "      <th colspan=\"5\" halign=\"left\">SPY</th>\n",
       "    </tr>\n",
       "    <tr>\n",
       "      <th></th>\n",
       "      <th>open</th>\n",
       "      <th>high</th>\n",
       "      <th>low</th>\n",
       "      <th>close</th>\n",
       "      <th>volume</th>\n",
       "      <th>open</th>\n",
       "      <th>high</th>\n",
       "      <th>low</th>\n",
       "      <th>close</th>\n",
       "      <th>volume</th>\n",
       "    </tr>\n",
       "    <tr>\n",
       "      <th>time</th>\n",
       "      <th></th>\n",
       "      <th></th>\n",
       "      <th></th>\n",
       "      <th></th>\n",
       "      <th></th>\n",
       "      <th></th>\n",
       "      <th></th>\n",
       "      <th></th>\n",
       "      <th></th>\n",
       "      <th></th>\n",
       "    </tr>\n",
       "  </thead>\n",
       "  <tbody>\n",
       "    <tr>\n",
       "      <th>2017-09-28 00:00:00-04:00</th>\n",
       "      <td>109.58</td>\n",
       "      <td>109.7200</td>\n",
       "      <td>109.5100</td>\n",
       "      <td>109.680</td>\n",
       "      <td>1553324.0</td>\n",
       "      <td>249.73</td>\n",
       "      <td>250.44</td>\n",
       "      <td>249.6300</td>\n",
       "      <td>250.34</td>\n",
       "      <td>25577234.0</td>\n",
       "    </tr>\n",
       "    <tr>\n",
       "      <th>2017-09-29 00:00:00-04:00</th>\n",
       "      <td>109.74</td>\n",
       "      <td>109.7700</td>\n",
       "      <td>109.5400</td>\n",
       "      <td>109.640</td>\n",
       "      <td>2969204.0</td>\n",
       "      <td>250.34</td>\n",
       "      <td>251.32</td>\n",
       "      <td>250.1300</td>\n",
       "      <td>251.20</td>\n",
       "      <td>41410208.0</td>\n",
       "    </tr>\n",
       "    <tr>\n",
       "      <th>2017-10-02 00:00:00-04:00</th>\n",
       "      <td>109.43</td>\n",
       "      <td>109.4700</td>\n",
       "      <td>109.3300</td>\n",
       "      <td>109.425</td>\n",
       "      <td>3840216.0</td>\n",
       "      <td>251.49</td>\n",
       "      <td>252.30</td>\n",
       "      <td>251.2926</td>\n",
       "      <td>252.29</td>\n",
       "      <td>37469184.0</td>\n",
       "    </tr>\n",
       "    <tr>\n",
       "      <th>2017-10-03 00:00:00-04:00</th>\n",
       "      <td>109.46</td>\n",
       "      <td>109.5400</td>\n",
       "      <td>109.4000</td>\n",
       "      <td>109.520</td>\n",
       "      <td>2243369.0</td>\n",
       "      <td>252.46</td>\n",
       "      <td>252.89</td>\n",
       "      <td>252.2300</td>\n",
       "      <td>252.85</td>\n",
       "      <td>33875099.0</td>\n",
       "    </tr>\n",
       "    <tr>\n",
       "      <th>2017-10-04 00:00:00-04:00</th>\n",
       "      <td>109.56</td>\n",
       "      <td>109.5700</td>\n",
       "      <td>109.4100</td>\n",
       "      <td>109.500</td>\n",
       "      <td>2130907.0</td>\n",
       "      <td>252.69</td>\n",
       "      <td>253.44</td>\n",
       "      <td>252.5600</td>\n",
       "      <td>253.16</td>\n",
       "      <td>30217246.0</td>\n",
       "    </tr>\n",
       "    <tr>\n",
       "      <th>...</th>\n",
       "      <td>...</td>\n",
       "      <td>...</td>\n",
       "      <td>...</td>\n",
       "      <td>...</td>\n",
       "      <td>...</td>\n",
       "      <td>...</td>\n",
       "      <td>...</td>\n",
       "      <td>...</td>\n",
       "      <td>...</td>\n",
       "      <td>...</td>\n",
       "    </tr>\n",
       "    <tr>\n",
       "      <th>2021-09-13 00:00:00-04:00</th>\n",
       "      <td>116.00</td>\n",
       "      <td>116.0750</td>\n",
       "      <td>115.9600</td>\n",
       "      <td>116.030</td>\n",
       "      <td>3289881.0</td>\n",
       "      <td>448.65</td>\n",
       "      <td>448.92</td>\n",
       "      <td>444.1100</td>\n",
       "      <td>446.56</td>\n",
       "      <td>75103627.0</td>\n",
       "    </tr>\n",
       "    <tr>\n",
       "      <th>2021-09-14 00:00:00-04:00</th>\n",
       "      <td>116.07</td>\n",
       "      <td>116.3800</td>\n",
       "      <td>116.0700</td>\n",
       "      <td>116.280</td>\n",
       "      <td>4036304.0</td>\n",
       "      <td>448.12</td>\n",
       "      <td>448.34</td>\n",
       "      <td>443.2200</td>\n",
       "      <td>444.18</td>\n",
       "      <td>67959711.0</td>\n",
       "    </tr>\n",
       "    <tr>\n",
       "      <th>2021-09-15 00:00:00-04:00</th>\n",
       "      <td>116.29</td>\n",
       "      <td>116.2929</td>\n",
       "      <td>116.0900</td>\n",
       "      <td>116.190</td>\n",
       "      <td>3348036.0</td>\n",
       "      <td>444.62</td>\n",
       "      <td>448.41</td>\n",
       "      <td>443.4400</td>\n",
       "      <td>447.87</td>\n",
       "      <td>69265024.0</td>\n",
       "    </tr>\n",
       "    <tr>\n",
       "      <th>2021-09-16 00:00:00-04:00</th>\n",
       "      <td>115.95</td>\n",
       "      <td>116.1100</td>\n",
       "      <td>115.9050</td>\n",
       "      <td>115.990</td>\n",
       "      <td>3673608.0</td>\n",
       "      <td>447.32</td>\n",
       "      <td>448.36</td>\n",
       "      <td>444.0200</td>\n",
       "      <td>447.14</td>\n",
       "      <td>69354318.0</td>\n",
       "    </tr>\n",
       "    <tr>\n",
       "      <th>2021-09-17 00:00:00-04:00</th>\n",
       "      <td>115.80</td>\n",
       "      <td>115.8750</td>\n",
       "      <td>115.7428</td>\n",
       "      <td>115.850</td>\n",
       "      <td>4662040.0</td>\n",
       "      <td>444.92</td>\n",
       "      <td>445.37</td>\n",
       "      <td>441.0200</td>\n",
       "      <td>441.41</td>\n",
       "      <td>100861596.0</td>\n",
       "    </tr>\n",
       "  </tbody>\n",
       "</table>\n",
       "<p>999 rows × 10 columns</p>\n",
       "</div>"
      ],
      "text/plain": [
       "                              AGG                                          \\\n",
       "                             open      high       low    close     volume   \n",
       "time                                                                        \n",
       "2017-09-28 00:00:00-04:00  109.58  109.7200  109.5100  109.680  1553324.0   \n",
       "2017-09-29 00:00:00-04:00  109.74  109.7700  109.5400  109.640  2969204.0   \n",
       "2017-10-02 00:00:00-04:00  109.43  109.4700  109.3300  109.425  3840216.0   \n",
       "2017-10-03 00:00:00-04:00  109.46  109.5400  109.4000  109.520  2243369.0   \n",
       "2017-10-04 00:00:00-04:00  109.56  109.5700  109.4100  109.500  2130907.0   \n",
       "...                           ...       ...       ...      ...        ...   \n",
       "2021-09-13 00:00:00-04:00  116.00  116.0750  115.9600  116.030  3289881.0   \n",
       "2021-09-14 00:00:00-04:00  116.07  116.3800  116.0700  116.280  4036304.0   \n",
       "2021-09-15 00:00:00-04:00  116.29  116.2929  116.0900  116.190  3348036.0   \n",
       "2021-09-16 00:00:00-04:00  115.95  116.1100  115.9050  115.990  3673608.0   \n",
       "2021-09-17 00:00:00-04:00  115.80  115.8750  115.7428  115.850  4662040.0   \n",
       "\n",
       "                              SPY                                         \n",
       "                             open    high       low   close       volume  \n",
       "time                                                                      \n",
       "2017-09-28 00:00:00-04:00  249.73  250.44  249.6300  250.34   25577234.0  \n",
       "2017-09-29 00:00:00-04:00  250.34  251.32  250.1300  251.20   41410208.0  \n",
       "2017-10-02 00:00:00-04:00  251.49  252.30  251.2926  252.29   37469184.0  \n",
       "2017-10-03 00:00:00-04:00  252.46  252.89  252.2300  252.85   33875099.0  \n",
       "2017-10-04 00:00:00-04:00  252.69  253.44  252.5600  253.16   30217246.0  \n",
       "...                           ...     ...       ...     ...          ...  \n",
       "2021-09-13 00:00:00-04:00  448.65  448.92  444.1100  446.56   75103627.0  \n",
       "2021-09-14 00:00:00-04:00  448.12  448.34  443.2200  444.18   67959711.0  \n",
       "2021-09-15 00:00:00-04:00  444.62  448.41  443.4400  447.87   69265024.0  \n",
       "2021-09-16 00:00:00-04:00  447.32  448.36  444.0200  447.14   69354318.0  \n",
       "2021-09-17 00:00:00-04:00  444.92  445.37  441.0200  441.41  100861596.0  \n",
       "\n",
       "[999 rows x 10 columns]"
      ]
     },
     "execution_count": 33,
     "metadata": {},
     "output_type": "execute_result"
    }
   ],
   "source": [
    "five_years_hist_data.dropna(inplace=True)\n",
    "five_years_hist_data"
   ]
  },
  {
   "cell_type": "code",
   "execution_count": 34,
   "id": "2512eed3",
   "metadata": {},
   "outputs": [],
   "source": [
    "sim_weights = [0.4,0.6]\n",
    "num_sim = 500\n",
    "sim_days = 30*365 # we ignore leap years\n",
    "\n",
    "montecarlo_sim = MCSimulation(five_years_hist_data, \n",
    "                             weights=sim_weights, \n",
    "                             num_simulation=num_sim,\n",
    "                            num_trading_days=sim_days)"
   ]
  },
  {
   "cell_type": "code",
   "execution_count": null,
   "id": "f407de37",
   "metadata": {},
   "outputs": [
    {
     "name": "stdout",
     "output_type": "stream",
     "text": [
      "Running Monte Carlo simulation number 0.\n",
      "Running Monte Carlo simulation number 10.\n",
      "Running Monte Carlo simulation number 20.\n",
      "Running Monte Carlo simulation number 30.\n",
      "Running Monte Carlo simulation number 40.\n",
      "Running Monte Carlo simulation number 50.\n",
      "Running Monte Carlo simulation number 60.\n",
      "Running Monte Carlo simulation number 70.\n",
      "Running Monte Carlo simulation number 80.\n",
      "Running Monte Carlo simulation number 90.\n",
      "Running Monte Carlo simulation number 100.\n"
     ]
    },
    {
     "name": "stderr",
     "output_type": "stream",
     "text": [
      "C:\\Users\\bodem\\BodeCode\\MCForecastTools.py:117: PerformanceWarning: DataFrame is highly fragmented.  This is usually the result of calling `frame.insert` many times, which has poor performance.  Consider joining all columns at once using pd.concat(axis=1) instead.  To get a de-fragmented frame, use `newframe = frame.copy()`\n",
      "  portfolio_cumulative_returns[n] = (1 + sim_df.fillna(0)).cumprod()\n"
     ]
    },
    {
     "name": "stdout",
     "output_type": "stream",
     "text": [
      "Running Monte Carlo simulation number 110.\n",
      "Running Monte Carlo simulation number 120.\n",
      "Running Monte Carlo simulation number 130.\n",
      "Running Monte Carlo simulation number 140.\n",
      "Running Monte Carlo simulation number 150.\n",
      "Running Monte Carlo simulation number 160.\n",
      "Running Monte Carlo simulation number 170.\n",
      "Running Monte Carlo simulation number 180.\n",
      "Running Monte Carlo simulation number 190.\n",
      "Running Monte Carlo simulation number 200.\n",
      "Running Monte Carlo simulation number 210.\n",
      "Running Monte Carlo simulation number 220.\n",
      "Running Monte Carlo simulation number 230.\n",
      "Running Monte Carlo simulation number 240.\n",
      "Running Monte Carlo simulation number 250.\n",
      "Running Monte Carlo simulation number 260.\n",
      "Running Monte Carlo simulation number 270.\n",
      "Running Monte Carlo simulation number 280.\n",
      "Running Monte Carlo simulation number 290.\n",
      "Running Monte Carlo simulation number 300.\n",
      "Running Monte Carlo simulation number 310.\n"
     ]
    }
   ],
   "source": [
    "montecarlo_sim.plot_simulation()"
   ]
  },
  {
   "cell_type": "code",
   "execution_count": null,
   "id": "1d8ac808",
   "metadata": {},
   "outputs": [],
   "source": [
    "montecarlo_sim.plot_distribution()"
   ]
  },
  {
   "cell_type": "code",
   "execution_count": null,
   "id": "9ff1bd9f",
   "metadata": {},
   "outputs": [],
   "source": [
    "sim_summary_cumulative_return = montecarlo_sim.summarize_cumulative_return()\n",
    "sim_summary_cumulative_return"
   ]
  },
  {
   "cell_type": "code",
   "execution_count": null,
   "id": "074afd72",
   "metadata": {},
   "outputs": [],
   "source": [
    "type(sim_summary_cumulative_return)"
   ]
  },
  {
   "cell_type": "code",
   "execution_count": null,
   "id": "ca54dfe7",
   "metadata": {},
   "outputs": [],
   "source": [
    "ninety_five_ci_lower = sim_summary_cumulative_return['95% CI Lower']\n",
    "ninety_five_ci_upper = sim_summary_cumulative_return['95% CI Upper']"
   ]
  },
  {
   "cell_type": "code",
   "execution_count": null,
   "id": "cae52a15",
   "metadata": {},
   "outputs": [],
   "source": [
    "base_investment_capital = 20000\n",
    "base_expected_return_at_95_lower_ci = ninety_five_ci_lower * base_investment_capital\n",
    "base_expected_return_at_95_upper_ci = ninety_five_ci_upper * base_investment_capital"
   ]
  },
  {
   "cell_type": "code",
   "execution_count": null,
   "id": "8354b473",
   "metadata": {},
   "outputs": [],
   "source": [
    "capital_2 = base_investment_capital * 1.5\n",
    "capital_2_expected_return_at_95_lower_ci = ninety_five_ci_lower * capital_2\n",
    "capital_2_expected_return_at_95_upper_ci = ninety_five_ci_upper * capital_2"
   ]
  },
  {
   "cell_type": "code",
   "execution_count": null,
   "id": "315c5cf4",
   "metadata": {},
   "outputs": [],
   "source": [
    "print(f'The expected portfolio return at the 95% lower confidence level on ${base_investment_capital} = ${base_expected_return_at_95_lower_ci:.2f}')\n",
    "print(f'The expected portfolio return at the 95% upper confidence level on ${base_investment_capital} = ${base_expected_return_at_95_upper_ci:.2f}')\n",
    "print(f'The expected portfolio return at the 95% lower confidence level on ${capital_2} = ${capital_2_expected_return_at_95_lower_ci:.2f}')\n",
    "print(f'The expected portfolio return at the 95% upper confidence level on ${capital_2} = ${capital_2_expected_return_at_95_upper_ci:.2f}')"
   ]
  },
  {
   "cell_type": "code",
   "execution_count": null,
   "id": "ad10bf47",
   "metadata": {},
   "outputs": [],
   "source": []
  }
 ],
 "metadata": {
  "kernelspec": {
   "display_name": "Python 3 (ipykernel)",
   "language": "python",
   "name": "python3"
  },
  "language_info": {
   "codemirror_mode": {
    "name": "ipython",
    "version": 3
   },
   "file_extension": ".py",
   "mimetype": "text/x-python",
   "name": "python",
   "nbconvert_exporter": "python",
   "pygments_lexer": "ipython3",
   "version": "3.8.8"
  }
 },
 "nbformat": 4,
 "nbformat_minor": 5
}
