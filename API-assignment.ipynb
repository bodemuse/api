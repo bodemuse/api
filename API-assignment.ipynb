{
 "cells": [
  {
   "cell_type": "code",
   "execution_count": 3,
   "id": "f0001013",
   "metadata": {},
   "outputs": [],
   "source": [
    "# Initial imports\n",
    "import os\n",
    "import requests\n",
    "import pandas as pd\n",
    "from dotenv import load_dotenv\n",
    "import alpaca_trade_api as tradeapi\n",
    "import datetime\n",
    "from MCForecastTools import MCSimulation\n",
    "import matplotlib.pyplot as plt"
   ]
  },
  {
   "cell_type": "code",
   "execution_count": 4,
   "id": "a289a4fd",
   "metadata": {},
   "outputs": [],
   "source": [
    "%matplotlib inline"
   ]
  },
  {
   "cell_type": "code",
   "execution_count": 5,
   "id": "f0b422b4",
   "metadata": {},
   "outputs": [
    {
     "data": {
      "text/plain": [
       "True"
      ]
     },
     "execution_count": 5,
     "metadata": {},
     "output_type": "execute_result"
    }
   ],
   "source": [
    "# Load .env environment variables\n",
    "load_dotenv()"
   ]
  },
  {
   "cell_type": "markdown",
   "id": "0214566e",
   "metadata": {},
   "source": [
    "## Collect Crypto Prices Using the requests Library"
   ]
  },
  {
   "cell_type": "code",
   "execution_count": 6,
   "id": "63759567",
   "metadata": {},
   "outputs": [],
   "source": [
    "my_btc = 1.2\n",
    "my_eth = 5.3"
   ]
  },
  {
   "cell_type": "code",
   "execution_count": 7,
   "id": "ac77b037",
   "metadata": {},
   "outputs": [],
   "source": [
    "btc_url = 'https://api.alternative.me/v2/ticker/bitcoin/?convert=USD'\n",
    "eth_url = 'https://api.alternative.me/v2/ticker/ethereum/?convert=USD'"
   ]
  },
  {
   "cell_type": "code",
   "execution_count": 8,
   "id": "9522f583",
   "metadata": {},
   "outputs": [],
   "source": [
    "btc_data = requests.get(btc_url)\n",
    "eth_data = requests.get(eth_url)"
   ]
  },
  {
   "cell_type": "code",
   "execution_count": 9,
   "id": "8f235a7f",
   "metadata": {},
   "outputs": [
    {
     "data": {
      "text/plain": [
       "{'data': {'1': {'id': 1,\n",
       "   'name': 'Bitcoin',\n",
       "   'symbol': 'BTC',\n",
       "   'website_slug': 'bitcoin',\n",
       "   'rank': 1,\n",
       "   'circulating_supply': 18821262,\n",
       "   'total_supply': 18821262,\n",
       "   'max_supply': 21000000,\n",
       "   'quotes': {'USD': {'price': 44685.0,\n",
       "     'volume_24h': 30817694921,\n",
       "     'market_cap': 841020531728,\n",
       "     'percentage_change_1h': -0.724336257311263,\n",
       "     'percentage_change_24h': -7.37480322752464,\n",
       "     'percentage_change_7d': -3.27007874235955,\n",
       "     'percent_change_1h': -0.724336257311263,\n",
       "     'percent_change_24h': -7.37480322752464,\n",
       "     'percent_change_7d': -3.27007874235955}},\n",
       "   'last_updated': 1632134956}},\n",
       " 'metadata': {'timestamp': 1632134956,\n",
       "  'num_cryptocurrencies': 3105,\n",
       "  'error': None}}"
      ]
     },
     "execution_count": 9,
     "metadata": {},
     "output_type": "execute_result"
    }
   ],
   "source": [
    "#outputs bitcoin data in json\n",
    "btc_json = btc_data.json()\n",
    "btc_json"
   ]
  },
  {
   "cell_type": "code",
   "execution_count": 10,
   "id": "27e702f9",
   "metadata": {},
   "outputs": [
    {
     "data": {
      "text/plain": [
       "44685.0"
      ]
     },
     "execution_count": 10,
     "metadata": {},
     "output_type": "execute_result"
    }
   ],
   "source": [
    "#Selecting bitcoin price\n",
    "btc_price = btc_json['data']['1']['quotes']['USD']['price']\n",
    "btc_price"
   ]
  },
  {
   "cell_type": "code",
   "execution_count": 11,
   "id": "3763fcb9",
   "metadata": {},
   "outputs": [
    {
     "data": {
      "text/plain": [
       "{'data': {'1027': {'id': 1027,\n",
       "   'name': 'Ethereum',\n",
       "   'symbol': 'ETH',\n",
       "   'website_slug': 'ethereum',\n",
       "   'rank': 2,\n",
       "   'circulating_supply': 117600086,\n",
       "   'total_supply': 117600086,\n",
       "   'max_supply': 0,\n",
       "   'quotes': {'USD': {'price': 3135.89,\n",
       "     'volume_24h': 19129746248,\n",
       "     'market_cap': 368780643168,\n",
       "     'percentage_change_1h': -0.28364274258892,\n",
       "     'percentage_change_24h': -8.39572760569459,\n",
       "     'percentage_change_7d': -8.24941715751129,\n",
       "     'percent_change_1h': -0.28364274258892,\n",
       "     'percent_change_24h': -8.39572760569459,\n",
       "     'percent_change_7d': -8.24941715751129}},\n",
       "   'last_updated': 1632134960}},\n",
       " 'metadata': {'timestamp': 1632134960,\n",
       "  'num_cryptocurrencies': 3105,\n",
       "  'error': None}}"
      ]
     },
     "execution_count": 11,
     "metadata": {},
     "output_type": "execute_result"
    }
   ],
   "source": [
    "#outputs ethereum data in json\n",
    "eth_json =eth_data.json()\n",
    "eth_json"
   ]
  },
  {
   "cell_type": "code",
   "execution_count": 12,
   "id": "03f0fa69",
   "metadata": {},
   "outputs": [
    {
     "data": {
      "text/plain": [
       "3135.89"
      ]
     },
     "execution_count": 12,
     "metadata": {},
     "output_type": "execute_result"
    }
   ],
   "source": [
    "#Selecting ethereum price\n",
    "eth_price = eth_json['data']['1027']['quotes']['USD']['price']\n",
    "eth_price"
   ]
  },
  {
   "cell_type": "code",
   "execution_count": 13,
   "id": "d87636b3",
   "metadata": {},
   "outputs": [
    {
     "data": {
      "text/plain": [
       "70242.217"
      ]
     },
     "execution_count": 13,
     "metadata": {},
     "output_type": "execute_result"
    }
   ],
   "source": [
    "#adding #bitcoin portfolio value and ethereum portfolio value\n",
    "portfolio_value = (my_btc * btc_price) + (my_eth * eth_price)\n",
    "portfolio_value"
   ]
  },
  {
   "cell_type": "markdown",
   "id": "066c157d",
   "metadata": {},
   "source": [
    "## Collect Investments Data Using Alpaca: SPY (stocks) and AGG (bonds)"
   ]
  },
  {
   "cell_type": "code",
   "execution_count": 14,
   "id": "e2bd73c4",
   "metadata": {},
   "outputs": [],
   "source": [
    "# Set current amount of shares\n",
    "my_agg = 200\n",
    "my_spy = 50"
   ]
  },
  {
   "cell_type": "code",
   "execution_count": 15,
   "id": "6d15153c",
   "metadata": {},
   "outputs": [
    {
     "data": {
      "text/plain": [
       "('PKY7E1MFRLOLO4T1FFS8', 'HZRJqKGSY8B0CUrB5ttz4S4euwV7m4TTMhi1OhR5')"
      ]
     },
     "execution_count": 15,
     "metadata": {},
     "output_type": "execute_result"
    }
   ],
   "source": [
    " # Set Alpaca API key and secret\n",
    "alpaca_api_key = os.getenv(\"ALPACA_API_KEY\")\n",
    "alpaca_secret_key = os.getenv(\"ALPACA_SECRET_KEY\")\n",
    "\n",
    "alpaca_api_key, alpaca_secret_key"
   ]
  },
  {
   "cell_type": "code",
   "execution_count": 16,
   "id": "1077d992",
   "metadata": {},
   "outputs": [],
   "source": [
    "# Create the Alpaca API object\n",
    "alpaca = tradeapi.REST(\n",
    "    alpaca_api_key,\n",
    "    alpaca_secret_key,\n",
    "    api_version=\"v2\")"
   ]
  },
  {
   "cell_type": "code",
   "execution_count": 17,
   "id": "a74517aa",
   "metadata": {},
   "outputs": [],
   "source": [
    "#Set curreny date in ISOFormat\n",
    "today=datetime.date.today().isoformat()"
   ]
  },
  {
   "cell_type": "code",
   "execution_count": 18,
   "id": "6871530e",
   "metadata": {},
   "outputs": [],
   "source": [
    "# Get current closing prices for SPY and AGG\n",
    "price_data = alpaca.get_barset(['AGG','SPY'], '1D')"
   ]
  },
  {
   "cell_type": "code",
   "execution_count": 19,
   "id": "0b109cf9",
   "metadata": {},
   "outputs": [
    {
     "data": {
      "text/plain": [
       "datetime.datetime(2021, 9, 17, 14, 0)"
      ]
     },
     "execution_count": 19,
     "metadata": {},
     "output_type": "execute_result"
    }
   ],
   "source": [
    "#figure out what the parameter in the alpaca trade api entity.Bar is.\n",
    "datetime.datetime.fromtimestamp(1631851200) "
   ]
  },
  {
   "cell_type": "code",
   "execution_count": 20,
   "id": "368249bd",
   "metadata": {},
   "outputs": [
    {
     "data": {
      "text/html": [
       "<div>\n",
       "<style scoped>\n",
       "    .dataframe tbody tr th:only-of-type {\n",
       "        vertical-align: middle;\n",
       "    }\n",
       "\n",
       "    .dataframe tbody tr th {\n",
       "        vertical-align: top;\n",
       "    }\n",
       "\n",
       "    .dataframe thead tr th {\n",
       "        text-align: left;\n",
       "    }\n",
       "\n",
       "    .dataframe thead tr:last-of-type th {\n",
       "        text-align: right;\n",
       "    }\n",
       "</style>\n",
       "<table border=\"1\" class=\"dataframe\">\n",
       "  <thead>\n",
       "    <tr>\n",
       "      <th></th>\n",
       "      <th colspan=\"5\" halign=\"left\">AGG</th>\n",
       "      <th colspan=\"5\" halign=\"left\">SPY</th>\n",
       "    </tr>\n",
       "    <tr>\n",
       "      <th></th>\n",
       "      <th>open</th>\n",
       "      <th>high</th>\n",
       "      <th>low</th>\n",
       "      <th>close</th>\n",
       "      <th>volume</th>\n",
       "      <th>open</th>\n",
       "      <th>high</th>\n",
       "      <th>low</th>\n",
       "      <th>close</th>\n",
       "      <th>volume</th>\n",
       "    </tr>\n",
       "    <tr>\n",
       "      <th>time</th>\n",
       "      <th></th>\n",
       "      <th></th>\n",
       "      <th></th>\n",
       "      <th></th>\n",
       "      <th></th>\n",
       "      <th></th>\n",
       "      <th></th>\n",
       "      <th></th>\n",
       "      <th></th>\n",
       "      <th></th>\n",
       "    </tr>\n",
       "  </thead>\n",
       "  <tbody>\n",
       "    <tr>\n",
       "      <th>2017-09-27 00:00:00-04:00</th>\n",
       "      <td>109.67</td>\n",
       "      <td>109.7500</td>\n",
       "      <td>109.6000</td>\n",
       "      <td>109.668</td>\n",
       "      <td>1439682.0</td>\n",
       "      <td>NaN</td>\n",
       "      <td>NaN</td>\n",
       "      <td>NaN</td>\n",
       "      <td>NaN</td>\n",
       "      <td>NaN</td>\n",
       "    </tr>\n",
       "    <tr>\n",
       "      <th>2017-09-28 00:00:00-04:00</th>\n",
       "      <td>109.58</td>\n",
       "      <td>109.7200</td>\n",
       "      <td>109.5100</td>\n",
       "      <td>109.680</td>\n",
       "      <td>1553324.0</td>\n",
       "      <td>249.73</td>\n",
       "      <td>250.44</td>\n",
       "      <td>249.6300</td>\n",
       "      <td>250.34</td>\n",
       "      <td>25577234.0</td>\n",
       "    </tr>\n",
       "    <tr>\n",
       "      <th>2017-09-29 00:00:00-04:00</th>\n",
       "      <td>109.74</td>\n",
       "      <td>109.7700</td>\n",
       "      <td>109.5400</td>\n",
       "      <td>109.640</td>\n",
       "      <td>2969204.0</td>\n",
       "      <td>250.34</td>\n",
       "      <td>251.32</td>\n",
       "      <td>250.1300</td>\n",
       "      <td>251.20</td>\n",
       "      <td>41410208.0</td>\n",
       "    </tr>\n",
       "    <tr>\n",
       "      <th>2017-10-02 00:00:00-04:00</th>\n",
       "      <td>109.43</td>\n",
       "      <td>109.4700</td>\n",
       "      <td>109.3300</td>\n",
       "      <td>109.425</td>\n",
       "      <td>3840216.0</td>\n",
       "      <td>251.49</td>\n",
       "      <td>252.30</td>\n",
       "      <td>251.2926</td>\n",
       "      <td>252.29</td>\n",
       "      <td>37469184.0</td>\n",
       "    </tr>\n",
       "    <tr>\n",
       "      <th>2017-10-03 00:00:00-04:00</th>\n",
       "      <td>109.46</td>\n",
       "      <td>109.5400</td>\n",
       "      <td>109.4000</td>\n",
       "      <td>109.520</td>\n",
       "      <td>2243369.0</td>\n",
       "      <td>252.46</td>\n",
       "      <td>252.89</td>\n",
       "      <td>252.2300</td>\n",
       "      <td>252.85</td>\n",
       "      <td>33875099.0</td>\n",
       "    </tr>\n",
       "    <tr>\n",
       "      <th>...</th>\n",
       "      <td>...</td>\n",
       "      <td>...</td>\n",
       "      <td>...</td>\n",
       "      <td>...</td>\n",
       "      <td>...</td>\n",
       "      <td>...</td>\n",
       "      <td>...</td>\n",
       "      <td>...</td>\n",
       "      <td>...</td>\n",
       "      <td>...</td>\n",
       "    </tr>\n",
       "    <tr>\n",
       "      <th>2021-09-13 00:00:00-04:00</th>\n",
       "      <td>116.00</td>\n",
       "      <td>116.0750</td>\n",
       "      <td>115.9600</td>\n",
       "      <td>116.030</td>\n",
       "      <td>3289881.0</td>\n",
       "      <td>448.65</td>\n",
       "      <td>448.92</td>\n",
       "      <td>444.1100</td>\n",
       "      <td>446.56</td>\n",
       "      <td>75103627.0</td>\n",
       "    </tr>\n",
       "    <tr>\n",
       "      <th>2021-09-14 00:00:00-04:00</th>\n",
       "      <td>116.07</td>\n",
       "      <td>116.3800</td>\n",
       "      <td>116.0700</td>\n",
       "      <td>116.280</td>\n",
       "      <td>4036304.0</td>\n",
       "      <td>448.12</td>\n",
       "      <td>448.34</td>\n",
       "      <td>443.2200</td>\n",
       "      <td>444.18</td>\n",
       "      <td>67959711.0</td>\n",
       "    </tr>\n",
       "    <tr>\n",
       "      <th>2021-09-15 00:00:00-04:00</th>\n",
       "      <td>116.29</td>\n",
       "      <td>116.2929</td>\n",
       "      <td>116.0900</td>\n",
       "      <td>116.190</td>\n",
       "      <td>3348036.0</td>\n",
       "      <td>444.62</td>\n",
       "      <td>448.41</td>\n",
       "      <td>443.4400</td>\n",
       "      <td>447.87</td>\n",
       "      <td>69265024.0</td>\n",
       "    </tr>\n",
       "    <tr>\n",
       "      <th>2021-09-16 00:00:00-04:00</th>\n",
       "      <td>115.95</td>\n",
       "      <td>116.1100</td>\n",
       "      <td>115.9050</td>\n",
       "      <td>115.990</td>\n",
       "      <td>3673608.0</td>\n",
       "      <td>447.32</td>\n",
       "      <td>448.36</td>\n",
       "      <td>444.0200</td>\n",
       "      <td>447.14</td>\n",
       "      <td>69354318.0</td>\n",
       "    </tr>\n",
       "    <tr>\n",
       "      <th>2021-09-17 00:00:00-04:00</th>\n",
       "      <td>115.80</td>\n",
       "      <td>115.8750</td>\n",
       "      <td>115.7428</td>\n",
       "      <td>115.850</td>\n",
       "      <td>4662040.0</td>\n",
       "      <td>444.92</td>\n",
       "      <td>445.37</td>\n",
       "      <td>441.0200</td>\n",
       "      <td>441.41</td>\n",
       "      <td>100861596.0</td>\n",
       "    </tr>\n",
       "  </tbody>\n",
       "</table>\n",
       "<p>1001 rows × 10 columns</p>\n",
       "</div>"
      ],
      "text/plain": [
       "                              AGG                                          \\\n",
       "                             open      high       low    close     volume   \n",
       "time                                                                        \n",
       "2017-09-27 00:00:00-04:00  109.67  109.7500  109.6000  109.668  1439682.0   \n",
       "2017-09-28 00:00:00-04:00  109.58  109.7200  109.5100  109.680  1553324.0   \n",
       "2017-09-29 00:00:00-04:00  109.74  109.7700  109.5400  109.640  2969204.0   \n",
       "2017-10-02 00:00:00-04:00  109.43  109.4700  109.3300  109.425  3840216.0   \n",
       "2017-10-03 00:00:00-04:00  109.46  109.5400  109.4000  109.520  2243369.0   \n",
       "...                           ...       ...       ...      ...        ...   \n",
       "2021-09-13 00:00:00-04:00  116.00  116.0750  115.9600  116.030  3289881.0   \n",
       "2021-09-14 00:00:00-04:00  116.07  116.3800  116.0700  116.280  4036304.0   \n",
       "2021-09-15 00:00:00-04:00  116.29  116.2929  116.0900  116.190  3348036.0   \n",
       "2021-09-16 00:00:00-04:00  115.95  116.1100  115.9050  115.990  3673608.0   \n",
       "2021-09-17 00:00:00-04:00  115.80  115.8750  115.7428  115.850  4662040.0   \n",
       "\n",
       "                              SPY                                         \n",
       "                             open    high       low   close       volume  \n",
       "time                                                                      \n",
       "2017-09-27 00:00:00-04:00     NaN     NaN       NaN     NaN          NaN  \n",
       "2017-09-28 00:00:00-04:00  249.73  250.44  249.6300  250.34   25577234.0  \n",
       "2017-09-29 00:00:00-04:00  250.34  251.32  250.1300  251.20   41410208.0  \n",
       "2017-10-02 00:00:00-04:00  251.49  252.30  251.2926  252.29   37469184.0  \n",
       "2017-10-03 00:00:00-04:00  252.46  252.89  252.2300  252.85   33875099.0  \n",
       "...                           ...     ...       ...     ...          ...  \n",
       "2021-09-13 00:00:00-04:00  448.65  448.92  444.1100  446.56   75103627.0  \n",
       "2021-09-14 00:00:00-04:00  448.12  448.34  443.2200  444.18   67959711.0  \n",
       "2021-09-15 00:00:00-04:00  444.62  448.41  443.4400  447.87   69265024.0  \n",
       "2021-09-16 00:00:00-04:00  447.32  448.36  444.0200  447.14   69354318.0  \n",
       "2021-09-17 00:00:00-04:00  444.92  445.37  441.0200  441.41  100861596.0  \n",
       "\n",
       "[1001 rows x 10 columns]"
      ]
     },
     "execution_count": 20,
     "metadata": {},
     "output_type": "execute_result"
    }
   ],
   "source": [
    "# Get current closing prices for AGG and SPY\n",
    "price_df = alpaca.get_barset(\n",
    "    ['AGG','SPY'],\n",
    "    '1D',\n",
    "    start = today,\n",
    "    end = today,\n",
    "    limit = 1000\n",
    ").df\n",
    "\n",
    "price_df"
   ]
  },
  {
   "cell_type": "code",
   "execution_count": 21,
   "id": "b73cf6b8",
   "metadata": {},
   "outputs": [
    {
     "data": {
      "text/html": [
       "<div>\n",
       "<style scoped>\n",
       "    .dataframe tbody tr th:only-of-type {\n",
       "        vertical-align: middle;\n",
       "    }\n",
       "\n",
       "    .dataframe tbody tr th {\n",
       "        vertical-align: top;\n",
       "    }\n",
       "\n",
       "    .dataframe thead th {\n",
       "        text-align: right;\n",
       "    }\n",
       "</style>\n",
       "<table border=\"1\" class=\"dataframe\">\n",
       "  <thead>\n",
       "    <tr style=\"text-align: right;\">\n",
       "      <th></th>\n",
       "      <th>AGG</th>\n",
       "      <th>SPY</th>\n",
       "    </tr>\n",
       "    <tr>\n",
       "      <th>Date</th>\n",
       "      <th></th>\n",
       "      <th></th>\n",
       "    </tr>\n",
       "  </thead>\n",
       "  <tbody>\n",
       "    <tr>\n",
       "      <th>2017-09-27</th>\n",
       "      <td>109.668</td>\n",
       "      <td>NaN</td>\n",
       "    </tr>\n",
       "    <tr>\n",
       "      <th>2017-09-28</th>\n",
       "      <td>109.680</td>\n",
       "      <td>250.34</td>\n",
       "    </tr>\n",
       "    <tr>\n",
       "      <th>2017-09-29</th>\n",
       "      <td>109.640</td>\n",
       "      <td>251.20</td>\n",
       "    </tr>\n",
       "    <tr>\n",
       "      <th>2017-10-02</th>\n",
       "      <td>109.425</td>\n",
       "      <td>252.29</td>\n",
       "    </tr>\n",
       "    <tr>\n",
       "      <th>2017-10-03</th>\n",
       "      <td>109.520</td>\n",
       "      <td>252.85</td>\n",
       "    </tr>\n",
       "    <tr>\n",
       "      <th>...</th>\n",
       "      <td>...</td>\n",
       "      <td>...</td>\n",
       "    </tr>\n",
       "    <tr>\n",
       "      <th>2021-09-13</th>\n",
       "      <td>116.030</td>\n",
       "      <td>446.56</td>\n",
       "    </tr>\n",
       "    <tr>\n",
       "      <th>2021-09-14</th>\n",
       "      <td>116.280</td>\n",
       "      <td>444.18</td>\n",
       "    </tr>\n",
       "    <tr>\n",
       "      <th>2021-09-15</th>\n",
       "      <td>116.190</td>\n",
       "      <td>447.87</td>\n",
       "    </tr>\n",
       "    <tr>\n",
       "      <th>2021-09-16</th>\n",
       "      <td>115.990</td>\n",
       "      <td>447.14</td>\n",
       "    </tr>\n",
       "    <tr>\n",
       "      <th>2021-09-17</th>\n",
       "      <td>115.850</td>\n",
       "      <td>441.41</td>\n",
       "    </tr>\n",
       "  </tbody>\n",
       "</table>\n",
       "<p>1001 rows × 2 columns</p>\n",
       "</div>"
      ],
      "text/plain": [
       "                AGG     SPY\n",
       "Date                       \n",
       "2017-09-27  109.668     NaN\n",
       "2017-09-28  109.680  250.34\n",
       "2017-09-29  109.640  251.20\n",
       "2017-10-02  109.425  252.29\n",
       "2017-10-03  109.520  252.85\n",
       "...             ...     ...\n",
       "2021-09-13  116.030  446.56\n",
       "2021-09-14  116.280  444.18\n",
       "2021-09-15  116.190  447.87\n",
       "2021-09-16  115.990  447.14\n",
       "2021-09-17  115.850  441.41\n",
       "\n",
       "[1001 rows x 2 columns]"
      ]
     },
     "execution_count": 21,
     "metadata": {},
     "output_type": "execute_result"
    }
   ],
   "source": [
    "# Create and empty DataFrame for closing prices\n",
    "df_closing_prices = pd.DataFrame()\n",
    "\n",
    "# Fetch the closing prices of AGG and SPY\n",
    "df_closing_prices[\"AGG\"] = price_df['AGG']['close']\n",
    "df_closing_prices[\"SPY\"] = price_df['SPY']['close']\n",
    "\n",
    "# Drop the time component of the date\n",
    "df_closing_prices.index = df_closing_prices.index.date\n",
    "\n",
    "df_closing_prices.index.name = 'Date'\n",
    "df_closing_prices"
   ]
  },
  {
   "cell_type": "code",
   "execution_count": 22,
   "id": "dd17f988",
   "metadata": {},
   "outputs": [
    {
     "data": {
      "text/plain": [
       "AGG    115.85\n",
       "SPY    441.41\n",
       "Name: 2021-09-17, dtype: float64"
      ]
     },
     "execution_count": 22,
     "metadata": {},
     "output_type": "execute_result"
    }
   ],
   "source": [
    "#selecting the most recent price of AGG and SPY\n",
    "most_recent_closing_price = df_closing_prices.loc[max(df_closing_prices.index)]\n",
    "most_recent_closing_price"
   ]
  },
  {
   "cell_type": "code",
   "execution_count": 23,
   "id": "d4175861",
   "metadata": {},
   "outputs": [
    {
     "name": "stdout",
     "output_type": "stream",
     "text": [
      " current AGG price = 23170.0\n",
      " current SPY price = 22070.5\n"
     ]
    }
   ],
   "source": [
    "#output portfolio value of AGG and SPY\n",
    "current_agg_price = most_recent_closing_price['AGG'] * my_agg\n",
    "current_spy_price = most_recent_closing_price['SPY'] * my_spy\n",
    "print(f' current AGG price = {current_agg_price}')\n",
    "print(f' current SPY price = {current_spy_price}')\n"
   ]
  },
  {
   "cell_type": "code",
   "execution_count": 24,
   "id": "3ff8706c",
   "metadata": {},
   "outputs": [
    {
     "data": {
      "text/plain": [
       "45240.5"
      ]
     },
     "execution_count": 24,
     "metadata": {},
     "output_type": "execute_result"
    }
   ],
   "source": [
    "#Total portfolio value\n",
    "total_stock_portfolio = current_agg_price + current_spy_price\n",
    "total_stock_portfolio"
   ]
  },
  {
   "cell_type": "markdown",
   "id": "b4b29b69",
   "metadata": {},
   "source": [
    "## Savings Health Analysis"
   ]
  },
  {
   "cell_type": "code",
   "execution_count": 25,
   "id": "3a511fa6",
   "metadata": {},
   "outputs": [],
   "source": [
    " # Set monthly household income\n",
    "monthly_income = 12000"
   ]
  },
  {
   "cell_type": "code",
   "execution_count": 26,
   "id": "89a5acdd",
   "metadata": {},
   "outputs": [
    {
     "data": {
      "text/html": [
       "<div>\n",
       "<style scoped>\n",
       "    .dataframe tbody tr th:only-of-type {\n",
       "        vertical-align: middle;\n",
       "    }\n",
       "\n",
       "    .dataframe tbody tr th {\n",
       "        vertical-align: top;\n",
       "    }\n",
       "\n",
       "    .dataframe thead th {\n",
       "        text-align: right;\n",
       "    }\n",
       "</style>\n",
       "<table border=\"1\" class=\"dataframe\">\n",
       "  <thead>\n",
       "    <tr style=\"text-align: right;\">\n",
       "      <th></th>\n",
       "      <th>amount</th>\n",
       "    </tr>\n",
       "  </thead>\n",
       "  <tbody>\n",
       "    <tr>\n",
       "      <th>crypto</th>\n",
       "      <td>70242.217</td>\n",
       "    </tr>\n",
       "    <tr>\n",
       "      <th>shares</th>\n",
       "      <td>45240.500</td>\n",
       "    </tr>\n",
       "  </tbody>\n",
       "</table>\n",
       "</div>"
      ],
      "text/plain": [
       "           amount\n",
       "crypto  70242.217\n",
       "shares  45240.500"
      ]
     },
     "execution_count": 26,
     "metadata": {},
     "output_type": "execute_result"
    }
   ],
   "source": [
    "# Consolidate financial assets data,  Create savings DataFrame and Display savings DataFrame \n",
    "df_savings = pd.DataFrame([[portfolio_value],[total_stock_portfolio]], index=['crypto', 'shares'], columns=['amount'])\n",
    "df_savings"
   ]
  },
  {
   "cell_type": "code",
   "execution_count": 27,
   "id": "81a9ac25",
   "metadata": {},
   "outputs": [],
   "source": [
    "#plot = df.plot.pie(y='mass', figsize=(10, 10))\n",
    "#df_savings.plot.pie(y='amount', figsize=(10,10))"
   ]
  },
  {
   "cell_type": "code",
   "execution_count": 28,
   "id": "5d0ebe72",
   "metadata": {},
   "outputs": [],
   "source": [
    "#sums up crypto amount and shares\n",
    "df_total_savings = df_savings.sum(0)\n",
    "total_savings = df_total_savings['amount']"
   ]
  },
  {
   "cell_type": "code",
   "execution_count": 29,
   "id": "9f2ead60",
   "metadata": {},
   "outputs": [
    {
     "data": {
      "text/plain": [
       "([<matplotlib.patches.Wedge at 0x1e125494340>,\n",
       "  <matplotlib.patches.Wedge at 0x1e125362b20>],\n",
       " [Text(-2.0740063033635288, -0.7338241298896833, 'Crypto'),\n",
       "  Text(2.1211427399910816, 0.7505021496192577, 'Shares')],\n",
       " [Text(-1.1312761654710155, -0.40026770721255445, '61%'),\n",
       "  Text(1.1784126333283786, 0.41694563867736534, '39%')])"
      ]
     },
     "execution_count": 29,
     "metadata": {},
     "output_type": "execute_result"
    },
    {
     "data": {
      "image/png": "[encoded data removed]",
      "text/plain": [
       "<Figure size 360x360 with 1 Axes>"
      ]
     },
     "metadata": {},
     "output_type": "display_data"
    }
   ],
   "source": [
    "# Plot savings pie chart\n",
    "\n",
    "labels = ['Crypto', 'Shares']   # Create labels for pie chart\n",
    "crypto_percentage = 100 * df_savings.loc['crypto']['amount']/total_savings\n",
    "shares_percentage = 100 * df_savings.loc['shares']['amount']/total_savings\n",
    "sizes = [crypto_percentage, shares_percentage]\n",
    "explode = [0, 0.05]  # detach the second element of the pie chart (shares) by this offset\n",
    "\n",
    "fig1, ax1 = plt.subplots(figsize=(5,5))  # Setup figure and axes for ploting\n",
    "ax1.axis('equal')  #ensure the pie chart is circular\n",
    "#ax1.set_title(\"Portfolio Pie Chart\")  #set piechart title\n",
    "\n",
    "ax1.pie(sizes,       \n",
    "        labels=labels,\n",
    "        autopct='%1.0f%%',\n",
    "        explode=explode,\n",
    "       shadow=True,\n",
    "       radius=2,\n",
    "       startangle=90)\n"
   ]
  },
  {
   "cell_type": "code",
   "execution_count": 30,
   "id": "8cd43ade",
   "metadata": {},
   "outputs": [
    {
     "name": "stdout",
     "output_type": "stream",
     "text": [
      "Congratulations you have enough savings \n"
     ]
    }
   ],
   "source": [
    "# Validate saving health\n",
    "financial_goal = 3*monthly_income\n",
    "if total_savings > financial_goal:\n",
    "    print(\"Congratulations you have enough savings \")\n",
    "elif total_savings == financial_goal:\n",
    "    print('Congratulations reaching your financial goal')\n",
    "else:\n",
    "    print(f'You are ${financial_goal - total_savings} away from your target')"
   ]
  },
  {
   "cell_type": "markdown",
   "id": "d75ab5c2",
   "metadata": {},
   "source": [
    "## Retirement Planning"
   ]
  },
  {
   "cell_type": "markdown",
   "id": "45743acc",
   "metadata": {},
   "source": [
    "## Monte Carlo Simulation"
   ]
  },
  {
   "cell_type": "code",
   "execution_count": 31,
   "id": "915bd2e1",
   "metadata": {},
   "outputs": [],
   "source": [
    "# The effect of leap years on our calculations are negligble.  As such we elide this detail\n",
    "five_years_in_days = 365 * 5\n",
    "five_year_delta = datetime.timedelta(days=five_years_in_days)\n",
    "today_datetime = datetime.datetime.today()\n",
    "five_years_ago_datetime = today_datetime - five_year_delta\n",
    "five_years_ago_iso = five_years_ago_datetime.isoformat()"
   ]
  },
  {
   "cell_type": "code",
   "execution_count": 32,
   "id": "165d136a",
   "metadata": {},
   "outputs": [],
   "source": [
    "# Set start and end dates of five years back from today.\n",
    "# Sample results may vary from the solution based on the time frame chosen\n",
    "start_date = five_years_ago_iso\n",
    "end_date = today"
   ]
  },
  {
   "cell_type": "code",
   "execution_count": 33,
   "id": "c17f9441",
   "metadata": {},
   "outputs": [],
   "source": [
    "# 5 years' worth of historical data for SPY and AGG\n",
    "# (use a limit=1000 parameter to call the most recent 1000 days of data)\n",
    "\n",
    "# Display sample data\n",
    "#df_stock_data.head()"
   ]
  },
  {
   "cell_type": "code",
   "execution_count": 34,
   "id": "ca19762e",
   "metadata": {},
   "outputs": [],
   "source": [
    "# 5 years' worth of historical data for SPY and AGG\n",
    "five_years_hist_data = alpaca.get_barset(\n",
    "    ['AGG','SPY'],\n",
    "    '1D',\n",
    "    start = start_date,\n",
    "    end = today,\n",
    "    limit = 1000\n",
    ").df"
   ]
  },
  {
   "cell_type": "code",
   "execution_count": 35,
   "id": "52363cf8",
   "metadata": {},
   "outputs": [
    {
     "data": {
      "text/html": [
       "<div>\n",
       "<style scoped>\n",
       "    .dataframe tbody tr th:only-of-type {\n",
       "        vertical-align: middle;\n",
       "    }\n",
       "\n",
       "    .dataframe tbody tr th {\n",
       "        vertical-align: top;\n",
       "    }\n",
       "\n",
       "    .dataframe thead tr th {\n",
       "        text-align: left;\n",
       "    }\n",
       "\n",
       "    .dataframe thead tr:last-of-type th {\n",
       "        text-align: right;\n",
       "    }\n",
       "</style>\n",
       "<table border=\"1\" class=\"dataframe\">\n",
       "  <thead>\n",
       "    <tr>\n",
       "      <th></th>\n",
       "      <th colspan=\"5\" halign=\"left\">AGG</th>\n",
       "      <th colspan=\"5\" halign=\"left\">SPY</th>\n",
       "    </tr>\n",
       "    <tr>\n",
       "      <th></th>\n",
       "      <th>open</th>\n",
       "      <th>high</th>\n",
       "      <th>low</th>\n",
       "      <th>close</th>\n",
       "      <th>volume</th>\n",
       "      <th>open</th>\n",
       "      <th>high</th>\n",
       "      <th>low</th>\n",
       "      <th>close</th>\n",
       "      <th>volume</th>\n",
       "    </tr>\n",
       "    <tr>\n",
       "      <th>time</th>\n",
       "      <th></th>\n",
       "      <th></th>\n",
       "      <th></th>\n",
       "      <th></th>\n",
       "      <th></th>\n",
       "      <th></th>\n",
       "      <th></th>\n",
       "      <th></th>\n",
       "      <th></th>\n",
       "      <th></th>\n",
       "    </tr>\n",
       "  </thead>\n",
       "  <tbody>\n",
       "    <tr>\n",
       "      <th>2017-09-28 00:00:00-04:00</th>\n",
       "      <td>109.58</td>\n",
       "      <td>109.7200</td>\n",
       "      <td>109.5100</td>\n",
       "      <td>109.680</td>\n",
       "      <td>1553324.0</td>\n",
       "      <td>249.73</td>\n",
       "      <td>250.44</td>\n",
       "      <td>249.6300</td>\n",
       "      <td>250.34</td>\n",
       "      <td>25577234.0</td>\n",
       "    </tr>\n",
       "    <tr>\n",
       "      <th>2017-09-29 00:00:00-04:00</th>\n",
       "      <td>109.74</td>\n",
       "      <td>109.7700</td>\n",
       "      <td>109.5400</td>\n",
       "      <td>109.640</td>\n",
       "      <td>2969204.0</td>\n",
       "      <td>250.34</td>\n",
       "      <td>251.32</td>\n",
       "      <td>250.1300</td>\n",
       "      <td>251.20</td>\n",
       "      <td>41410208.0</td>\n",
       "    </tr>\n",
       "    <tr>\n",
       "      <th>2017-10-02 00:00:00-04:00</th>\n",
       "      <td>109.43</td>\n",
       "      <td>109.4700</td>\n",
       "      <td>109.3300</td>\n",
       "      <td>109.425</td>\n",
       "      <td>3840216.0</td>\n",
       "      <td>251.49</td>\n",
       "      <td>252.30</td>\n",
       "      <td>251.2926</td>\n",
       "      <td>252.29</td>\n",
       "      <td>37469184.0</td>\n",
       "    </tr>\n",
       "    <tr>\n",
       "      <th>2017-10-03 00:00:00-04:00</th>\n",
       "      <td>109.46</td>\n",
       "      <td>109.5400</td>\n",
       "      <td>109.4000</td>\n",
       "      <td>109.520</td>\n",
       "      <td>2243369.0</td>\n",
       "      <td>252.46</td>\n",
       "      <td>252.89</td>\n",
       "      <td>252.2300</td>\n",
       "      <td>252.85</td>\n",
       "      <td>33875099.0</td>\n",
       "    </tr>\n",
       "    <tr>\n",
       "      <th>2017-10-04 00:00:00-04:00</th>\n",
       "      <td>109.56</td>\n",
       "      <td>109.5700</td>\n",
       "      <td>109.4100</td>\n",
       "      <td>109.500</td>\n",
       "      <td>2130907.0</td>\n",
       "      <td>252.69</td>\n",
       "      <td>253.44</td>\n",
       "      <td>252.5600</td>\n",
       "      <td>253.16</td>\n",
       "      <td>30217246.0</td>\n",
       "    </tr>\n",
       "    <tr>\n",
       "      <th>...</th>\n",
       "      <td>...</td>\n",
       "      <td>...</td>\n",
       "      <td>...</td>\n",
       "      <td>...</td>\n",
       "      <td>...</td>\n",
       "      <td>...</td>\n",
       "      <td>...</td>\n",
       "      <td>...</td>\n",
       "      <td>...</td>\n",
       "      <td>...</td>\n",
       "    </tr>\n",
       "    <tr>\n",
       "      <th>2021-09-13 00:00:00-04:00</th>\n",
       "      <td>116.00</td>\n",
       "      <td>116.0750</td>\n",
       "      <td>115.9600</td>\n",
       "      <td>116.030</td>\n",
       "      <td>3289881.0</td>\n",
       "      <td>448.65</td>\n",
       "      <td>448.92</td>\n",
       "      <td>444.1100</td>\n",
       "      <td>446.56</td>\n",
       "      <td>75103627.0</td>\n",
       "    </tr>\n",
       "    <tr>\n",
       "      <th>2021-09-14 00:00:00-04:00</th>\n",
       "      <td>116.07</td>\n",
       "      <td>116.3800</td>\n",
       "      <td>116.0700</td>\n",
       "      <td>116.280</td>\n",
       "      <td>4036304.0</td>\n",
       "      <td>448.12</td>\n",
       "      <td>448.34</td>\n",
       "      <td>443.2200</td>\n",
       "      <td>444.18</td>\n",
       "      <td>67959711.0</td>\n",
       "    </tr>\n",
       "    <tr>\n",
       "      <th>2021-09-15 00:00:00-04:00</th>\n",
       "      <td>116.29</td>\n",
       "      <td>116.2929</td>\n",
       "      <td>116.0900</td>\n",
       "      <td>116.190</td>\n",
       "      <td>3348036.0</td>\n",
       "      <td>444.62</td>\n",
       "      <td>448.41</td>\n",
       "      <td>443.4400</td>\n",
       "      <td>447.87</td>\n",
       "      <td>69265024.0</td>\n",
       "    </tr>\n",
       "    <tr>\n",
       "      <th>2021-09-16 00:00:00-04:00</th>\n",
       "      <td>115.95</td>\n",
       "      <td>116.1100</td>\n",
       "      <td>115.9050</td>\n",
       "      <td>115.990</td>\n",
       "      <td>3673608.0</td>\n",
       "      <td>447.32</td>\n",
       "      <td>448.36</td>\n",
       "      <td>444.0200</td>\n",
       "      <td>447.14</td>\n",
       "      <td>69354318.0</td>\n",
       "    </tr>\n",
       "    <tr>\n",
       "      <th>2021-09-17 00:00:00-04:00</th>\n",
       "      <td>115.80</td>\n",
       "      <td>115.8750</td>\n",
       "      <td>115.7428</td>\n",
       "      <td>115.850</td>\n",
       "      <td>4662040.0</td>\n",
       "      <td>444.92</td>\n",
       "      <td>445.37</td>\n",
       "      <td>441.0200</td>\n",
       "      <td>441.41</td>\n",
       "      <td>100861596.0</td>\n",
       "    </tr>\n",
       "  </tbody>\n",
       "</table>\n",
       "<p>999 rows × 10 columns</p>\n",
       "</div>"
      ],
      "text/plain": [
       "                              AGG                                          \\\n",
       "                             open      high       low    close     volume   \n",
       "time                                                                        \n",
       "2017-09-28 00:00:00-04:00  109.58  109.7200  109.5100  109.680  1553324.0   \n",
       "2017-09-29 00:00:00-04:00  109.74  109.7700  109.5400  109.640  2969204.0   \n",
       "2017-10-02 00:00:00-04:00  109.43  109.4700  109.3300  109.425  3840216.0   \n",
       "2017-10-03 00:00:00-04:00  109.46  109.5400  109.4000  109.520  2243369.0   \n",
       "2017-10-04 00:00:00-04:00  109.56  109.5700  109.4100  109.500  2130907.0   \n",
       "...                           ...       ...       ...      ...        ...   \n",
       "2021-09-13 00:00:00-04:00  116.00  116.0750  115.9600  116.030  3289881.0   \n",
       "2021-09-14 00:00:00-04:00  116.07  116.3800  116.0700  116.280  4036304.0   \n",
       "2021-09-15 00:00:00-04:00  116.29  116.2929  116.0900  116.190  3348036.0   \n",
       "2021-09-16 00:00:00-04:00  115.95  116.1100  115.9050  115.990  3673608.0   \n",
       "2021-09-17 00:00:00-04:00  115.80  115.8750  115.7428  115.850  4662040.0   \n",
       "\n",
       "                              SPY                                         \n",
       "                             open    high       low   close       volume  \n",
       "time                                                                      \n",
       "2017-09-28 00:00:00-04:00  249.73  250.44  249.6300  250.34   25577234.0  \n",
       "2017-09-29 00:00:00-04:00  250.34  251.32  250.1300  251.20   41410208.0  \n",
       "2017-10-02 00:00:00-04:00  251.49  252.30  251.2926  252.29   37469184.0  \n",
       "2017-10-03 00:00:00-04:00  252.46  252.89  252.2300  252.85   33875099.0  \n",
       "2017-10-04 00:00:00-04:00  252.69  253.44  252.5600  253.16   30217246.0  \n",
       "...                           ...     ...       ...     ...          ...  \n",
       "2021-09-13 00:00:00-04:00  448.65  448.92  444.1100  446.56   75103627.0  \n",
       "2021-09-14 00:00:00-04:00  448.12  448.34  443.2200  444.18   67959711.0  \n",
       "2021-09-15 00:00:00-04:00  444.62  448.41  443.4400  447.87   69265024.0  \n",
       "2021-09-16 00:00:00-04:00  447.32  448.36  444.0200  447.14   69354318.0  \n",
       "2021-09-17 00:00:00-04:00  444.92  445.37  441.0200  441.41  100861596.0  \n",
       "\n",
       "[999 rows x 10 columns]"
      ]
     },
     "execution_count": 35,
     "metadata": {},
     "output_type": "execute_result"
    }
   ],
   "source": [
    "#remove emplty cells in five years hist data\n",
    "five_years_hist_data.dropna(inplace=True)\n",
    "five_years_hist_data"
   ]
  },
  {
   "cell_type": "code",
   "execution_count": 45,
   "id": "679de3c9",
   "metadata": {},
   "outputs": [
    {
     "data": {
      "text/plain": [
       "<MCForecastTools.MCSimulation at 0x1e131e25f40>"
      ]
     },
     "execution_count": 45,
     "metadata": {},
     "output_type": "execute_result"
    }
   ],
   "source": [
    "#portfolio weights 40/60, AGG and SPY respectively\n",
    "sim_weights = [0.4,0.6]\n",
    "num_sim = 500\n",
    "sim_days = 30*365 # we ignore leap years\n",
    "\n",
    "montecarlo_sim = MCSimulation(five_years_hist_data, \n",
    "                             weights=sim_weights, \n",
    "                             num_simulation=num_sim,\n",
    "                            num_trading_days=sim_days)\n",
    "\n",
    "#print simulation input data\n",
    "montecarlo_sim"
   ]
  },
  {
   "cell_type": "code",
   "execution_count": 37,
   "id": "1b56a3a6",
   "metadata": {},
   "outputs": [
    {
     "name": "stdout",
     "output_type": "stream",
     "text": [
      "Running Monte Carlo simulation number 0.\n",
      "Running Monte Carlo simulation number 10.\n",
      "Running Monte Carlo simulation number 20.\n",
      "Running Monte Carlo simulation number 30.\n",
      "Running Monte Carlo simulation number 40.\n",
      "Running Monte Carlo simulation number 50.\n",
      "Running Monte Carlo simulation number 60.\n",
      "Running Monte Carlo simulation number 70.\n",
      "Running Monte Carlo simulation number 80.\n",
      "Running Monte Carlo simulation number 90.\n",
      "Running Monte Carlo simulation number 100.\n"
     ]
    },
    {
     "name": "stderr",
     "output_type": "stream",
     "text": [
      "C:\\Users\\bodem\\BodeCode\\MCForecastTools.py:117: PerformanceWarning: DataFrame is highly fragmented.  This is usually the result of calling `frame.insert` many times, which has poor performance.  Consider joining all columns at once using pd.concat(axis=1) instead.  To get a de-fragmented frame, use `newframe = frame.copy()`\n",
      "  portfolio_cumulative_returns[n] = (1 + sim_df.fillna(0)).cumprod()\n"
     ]
    },
    {
     "name": "stdout",
     "output_type": "stream",
     "text": [
      "Running Monte Carlo simulation number 110.\n",
      "Running Monte Carlo simulation number 120.\n",
      "Running Monte Carlo simulation number 130.\n",
      "Running Monte Carlo simulation number 140.\n",
      "Running Monte Carlo simulation number 150.\n",
      "Running Monte Carlo simulation number 160.\n",
      "Running Monte Carlo simulation number 170.\n",
      "Running Monte Carlo simulation number 180.\n",
      "Running Monte Carlo simulation number 190.\n",
      "Running Monte Carlo simulation number 200.\n",
      "Running Monte Carlo simulation number 210.\n",
      "Running Monte Carlo simulation number 220.\n",
      "Running Monte Carlo simulation number 230.\n",
      "Running Monte Carlo simulation number 240.\n",
      "Running Monte Carlo simulation number 250.\n",
      "Running Monte Carlo simulation number 260.\n",
      "Running Monte Carlo simulation number 270.\n",
      "Running Monte Carlo simulation number 280.\n",
      "Running Monte Carlo simulation number 290.\n",
      "Running Monte Carlo simulation number 300.\n",
      "Running Monte Carlo simulation number 310.\n",
      "Running Monte Carlo simulation number 320.\n",
      "Running Monte Carlo simulation number 330.\n",
      "Running Monte Carlo simulation number 340.\n",
      "Running Monte Carlo simulation number 350.\n",
      "Running Monte Carlo simulation number 360.\n",
      "Running Monte Carlo simulation number 370.\n",
      "Running Monte Carlo simulation number 380.\n",
      "Running Monte Carlo simulation number 390.\n",
      "Running Monte Carlo simulation number 400.\n",
      "Running Monte Carlo simulation number 410.\n",
      "Running Monte Carlo simulation number 420.\n",
      "Running Monte Carlo simulation number 430.\n",
      "Running Monte Carlo simulation number 440.\n",
      "Running Monte Carlo simulation number 450.\n",
      "Running Monte Carlo simulation number 460.\n",
      "Running Monte Carlo simulation number 470.\n",
      "Running Monte Carlo simulation number 480.\n",
      "Running Monte Carlo simulation number 490.\n"
     ]
    },
    {
     "data": {
      "text/plain": [
       "<AxesSubplot:title={'center':'500 Simulations of Cumulative Portfolio Return Trajectories Over the Next 10950 Trading Days.'}>"
      ]
     },
     "execution_count": 37,
     "metadata": {},
     "output_type": "execute_result"
    },
    {
     "data": {
      "image/png": "[encoded data removed]",
      "text/plain": [
       "<Figure size 432x288 with 1 Axes>"
      ]
     },
     "metadata": {
      "needs_background": "light"
     },
     "output_type": "display_data"
    }
   ],
   "source": [
    "# Running a Monte Carlo simulation to forecast 30 years cumulative returns\n",
    "# Plot simulation outcomes\n",
    "montecarlo_sim.plot_simulation()"
   ]
  },
  {
   "cell_type": "code",
   "execution_count": 38,
   "id": "241e58a5",
   "metadata": {},
   "outputs": [
    {
     "data": {
      "text/plain": [
       "<AxesSubplot:title={'center':'Distribution of Final Cumuluative Returns Across All 500 Simulations'}, ylabel='Frequency'>"
      ]
     },
     "execution_count": 38,
     "metadata": {},
     "output_type": "execute_result"
    },
    {
     "data": {
      "image/png": "[encoded data removed]",
      "text/plain": [
       "<Figure size 432x288 with 1 Axes>"
      ]
     },
     "metadata": {
      "needs_background": "light"
     },
     "output_type": "display_data"
    }
   ],
   "source": [
    "# Plot probability distribution and confidence intervals\n",
    "montecarlo_sim.plot_distribution()"
   ]
  },
  {
   "cell_type": "code",
   "execution_count": 39,
   "id": "0e8a08ed",
   "metadata": {},
   "outputs": [
    {
     "data": {
      "text/plain": [
       "count           500.000000\n",
       "mean            105.497064\n",
       "std             104.274003\n",
       "min               3.224235\n",
       "25%              39.567073\n",
       "50%              74.525243\n",
       "75%             129.177565\n",
       "max             791.789425\n",
       "95% CI Lower     13.215608\n",
       "95% CI Upper    396.167163\n",
       "Name: 10950, dtype: float64"
      ]
     },
     "execution_count": 39,
     "metadata": {},
     "output_type": "execute_result"
    }
   ],
   "source": [
    "# Fetch summary statistics from the Monte Carlo simulation results\n",
    "sim_summary_cumulative_return = montecarlo_sim.summarize_cumulative_return()\n",
    "sim_summary_cumulative_return"
   ]
  },
  {
   "cell_type": "code",
   "execution_count": 40,
   "id": "04b3c204",
   "metadata": {},
   "outputs": [
    {
     "data": {
      "text/plain": [
       "pandas.core.series.Series"
      ]
     },
     "execution_count": 40,
     "metadata": {},
     "output_type": "execute_result"
    }
   ],
   "source": [
    "type(sim_summary_cumulative_return)"
   ]
  },
  {
   "cell_type": "markdown",
   "id": "3f2d6dfd",
   "metadata": {},
   "source": [
    "##  Calculate the expected portfolio return at the 95% lower and upper confidence intervals based on a $20,000 initial investment"
   ]
  },
  {
   "cell_type": "code",
   "execution_count": 41,
   "id": "b63aa715",
   "metadata": {},
   "outputs": [],
   "source": [
    "ninety_five_ci_lower = sim_summary_cumulative_return['95% CI Lower']\n",
    "ninety_five_ci_upper = sim_summary_cumulative_return['95% CI Upper']"
   ]
  },
  {
   "cell_type": "code",
   "execution_count": 42,
   "id": "b24543f6",
   "metadata": {},
   "outputs": [],
   "source": [
    "# Set initial investment\n",
    "base_investment_capital = 20000\n",
    "\n",
    "#calculate expected returns on initial investment @ 95% lower and upper intervals\n",
    "base_expected_return_at_95_lower_ci = ninety_five_ci_lower * base_investment_capital\n",
    "base_expected_return_at_95_upper_ci = ninety_five_ci_upper * base_investment_capital"
   ]
  },
  {
   "cell_type": "code",
   "execution_count": 43,
   "id": "dcccc9f9",
   "metadata": {},
   "outputs": [],
   "source": [
    "#calculate expected returns on  50% increase on initial investment @ 95% lower and upper intervals\n",
    "capital_2 = base_investment_capital * 1.5\n",
    "capital_2_expected_return_at_95_lower_ci = ninety_five_ci_lower * capital_2\n",
    "capital_2_expected_return_at_95_upper_ci = ninety_five_ci_upper * capital_2"
   ]
  },
  {
   "cell_type": "code",
   "execution_count": 44,
   "id": "71b3a32d",
   "metadata": {},
   "outputs": [
    {
     "name": "stdout",
     "output_type": "stream",
     "text": [
      "The expected portfolio return at the 95% lower confidence level on $20000 = $264312.16\n",
      "The expected portfolio return at the 95% upper confidence level on $20000 = $7923343.26\n",
      "The expected portfolio return at the 95% lower confidence level on $30000.0 = $396468.25\n",
      "The expected portfolio return at the 95% upper confidence level on $30000.0 = $11885014.89\n"
     ]
    }
   ],
   "source": [
    "#outputs expected returns on initial investment @ 95% lower and upper intervals\n",
    "print(f'The expected portfolio return at the 95% lower confidence level on ${base_investment_capital} = ${base_expected_return_at_95_lower_ci:.2f}')\n",
    "print(f'The expected portfolio return at the 95% upper confidence level on ${base_investment_capital} = ${base_expected_return_at_95_upper_ci:.2f}')\n",
    "\n",
    "#outputs expected returns on  50% increase on initial investment @ 95% lower and upper intervals\n",
    "print(f'The expected portfolio return at the 95% lower confidence level on ${capital_2} = ${capital_2_expected_return_at_95_lower_ci:.2f}')\n",
    "print(f'The expected portfolio return at the 95% upper confidence level on ${capital_2} = ${capital_2_expected_return_at_95_upper_ci:.2f}')"
   ]
  },
  {
   "cell_type": "code",
   "execution_count": null,
   "id": "cb9b61cf",
   "metadata": {},
   "outputs": [],
   "source": []
  },
  {
   "cell_type": "code",
   "execution_count": null,
   "id": "153582bf",
   "metadata": {},
   "outputs": [],
   "source": []
  },
  {
   "cell_type": "code",
   "execution_count": null,
   "id": "69d33b30",
   "metadata": {},
   "outputs": [],
   "source": []
  },
  {
   "cell_type": "code",
   "execution_count": null,
   "id": "d52f39a9",
   "metadata": {},
   "outputs": [],
   "source": []
  }
 ],
 "metadata": {
  "kernelspec": {
   "display_name": "Python 3 (ipykernel)",
   "language": "python",
   "name": "python3"
  },
  "language_info": {
   "codemirror_mode": {
    "name": "ipython",
    "version": 3
   },
   "file_extension": ".py",
   "mimetype": "text/x-python",
   "name": "python",
   "nbconvert_exporter": "python",
   "pygments_lexer": "ipython3",
   "version": "3.8.8"
  }
 },
 "nbformat": 4,
 "nbformat_minor": 5
}
